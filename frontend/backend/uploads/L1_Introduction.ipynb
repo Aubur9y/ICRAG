{
 "cells": [
  {
   "cell_type": "markdown",
   "metadata": {},
   "source": [
    "# Inversion and Optimisation <a class=\"tocSkip\">\n",
    "\n",
    "## Lecture 1: Introduction to Inversion and Optimisation</a><a class=\"tocSkip\"></a>"
   ]
  },
  {
   "cell_type": "markdown",
   "metadata": {},
   "source": [
    "<h1>Table of Contents<span class=\"tocSkip\"></span></h1>\n",
    "<div><ul><li><span><a href=\"#Introductory-comments---Inversion-&-Optimisation\"><span>1  </span>Introductory comments - Inversion & Optimisation</a></span><ul><li><span><a href=\"#Inversion\"><span>1.1  </span>Inversion</a></span><ul><li><span><a href=\"#Linear-and-nonlinear-problems-in-multiple-dimensions\"><span>1.1.1  </span>Linear and nonlinear problems in multiple dimensions</a></span></li><li><span><a href=\"#Inversion-applications\"><span>1.1.2  </span>Inversion applications</a></span></li><li><span><a href=\"#A-simple-inversion/parameter-estimation-example:-polynomial-interpolation/least-squares-curve-fitting\"><span>1.1.3  </span>A simple inversion/parameter estimation example: polynomial interpolation/least squares curve-fitting</a></span></li><li><span><a href=\"#The-least-squares-solution\"><span>1.1.4  </span>The least squares solution</a></span></li><li><span><a href=\"#A-more-complex-Inversion-example\"><span>1.1.5  </span>A more complex Inversion example</a></span></li></ul></li><li><span><a href=\"#Optimisation\"><span>1.2  </span>Optimisation</a></span><ul><li><span><a href=\"#Optimisation-as-an-inversion-problem\"><span>1.2.1  </span>Optimisation as an inversion problem</a></span></li><li><span><a href=\"#Inversion-as-an-optimisation-problem\"><span>1.2.2  </span>Inversion as an optimisation problem</a></span></li><li><span><a href=\"#Optimisation---simple-example\"><span>1.2.3  </span>Optimisation - simple example</a></span></li><li><span><a href=\"#Optimisation-(more-complex)\"><span>1.2.4  </span>Optimisation (more complex)</a></span></li></ul></li></ul></li><li><span><a href=\"#Existence-and-Uniqueness-of-Solutions-and-the-rank-of-a-matrix\"><span>2  </span>Existence and Uniqueness of Solutions and the rank of a matrix</a></span><ul><li><span><a href=\"#Linear-Independence\"><span>2.1  </span>Linear Independence</a></span></li><li><span><a href=\"#Uniqueness-of-the-Solution\"><span>2.2  </span>Uniqueness of the Solution</a></span></li><li><span><a href=\"#Classification-of-square-and-non-square-matrix-systems\"><span>2.3  </span>Classification of square and non-square matrix systems</a></span></li><li><span><a href=\"#Mixed-determined\"><span>2.4  </span>Mixed determined</a></span></li></ul></li><li><span><a href=\"#Solving-Equi-Determined-Problems\"><span>3  </span>Solving Equi-Determined Problems</a></span><ul><li><span><a href=\"#Equi-determined-problems---a-summary\"><span>3.1  </span>Equi-determined problems - a summary</a></span></li><li><span><a href=\"#Some-naive-ways-of-solving-an-equi-determined-(square)-problem\"><span>3.2  </span>Some naive ways of solving an equi-determined (square) problem</a></span></li><li><span><a href=\"#Gaussian-elimination\"><span>3.3  </span>Gaussian elimination</a></span><ul><li><span><a href=\"#Row-Operations\"><span>3.3.1  </span>Row Operations</a></span></li><li><span><a href=\"#Row-Operations-on-the-Augmented-System\"><span>3.3.2  </span>Row Operations on the Augmented System</a></span></li><li><span><a href=\"#Calculating-the-Inverse-Matrix-through-Row-Operations\"><span>3.3.3  </span>Calculating the Inverse Matrix through Row Operations</a></span></li><li><span><a href=\"#Gaussian-Elimination\"><span>3.3.4  </span>Gaussian Elimination</a></span></li><li><span><a href=\"#Back-Substitution\"><span>3.3.5  </span>Back Substitution</a></span></li><li><span><a href=\"#Pivotting\"><span>3.3.6  </span>Pivotting</a></span></li></ul></li><li><span><a href=\"#LU-Decomposition\"><span>3.4  </span>LU Decomposition</a></span></li><li><span><a href=\"#Singular-Matrices\"><span>3.5  </span>Singular Matrices</a></span></li></ul></li><li><span><a href=\"#Over-Determined-problems-($m\\gt-n$)-and-the-Least-Squares-Solution\"><span>4  </span>Over-Determined problems ($m\\gt n$) and the Least Squares Solution</a></span><ul><li><span><a href=\"#Rank-of-matrix-products\"><span>4.1  </span>Rank of matrix products</a></span></li></ul></li><li><span><a href=\"#Under-Determined-Problems-($m\\lt-n$)-and-the-Minimum-Norm-Solution\"><span>5  </span>Under-Determined Problems ($m\\lt n$) and the Minimum Norm Solution</a></span></li><li><span><a href=\"#Mixed-Determined-Problems\"><span>6  </span>Mixed-Determined Problems</a></span><ul><li><span><a href=\"#Possible-solution-methods\"><span>6.1  </span>Possible solution methods</a></span></li></ul></li><li><span><a href=\"#List-of-Definitions\"><span>7  </span>List of Definitions</a></span></li></ul></div>"
   ]
  },
  {
   "cell_type": "markdown",
   "metadata": {},
   "source": [
    "### General note about the notebooks: <a class=\"tocSkip\"></a>\n",
    "The notebooks cover a fair amount of material each day. If you want to check whether you have picked up the most important points of the lecture, there's a summary and overview of key concepts at the start of each notebook. There is also a <a href=\"#definitions\"></a>list of all definitions at the end of each notebook. Make sure you are familiar with all terminology introduced in each notebook. For a better highlighting of the defintions, execute the following cell:"
   ]
  },
  {
   "cell_type": "code",
   "execution_count": 1,
   "metadata": {},
   "outputs": [
    {
     "data": {
      "text/html": [
       "<style>\n",
       "a.definition {\n",
       "    color: blue;\n",
       "    font-style: italic;\n",
       "    font-weight: bold;\n",
       "}\n",
       "</style>\n"
      ],
      "text/plain": [
       "<IPython.core.display.HTML object>"
      ]
     },
     "metadata": {},
     "output_type": "display_data"
    }
   ],
   "source": [
    "%%html\n",
    "<style>\n",
    "a.definition {\n",
    "    color: blue;\n",
    "    font-style: italic;\n",
    "    font-weight: bold;\n",
    "}\n",
    "</style>"
   ]
  },
  {
   "cell_type": "markdown",
   "metadata": {},
   "source": [
    "## Summary <a class=\"tocSkip\"></a>\n",
    "In today's lecture we will first briefly discuss the role of Inversion and Optimisation in science and engineering. We will start with the inversion of linear systems. For this we first need to revise some of the key concepts of Linear Algebra that you've already encountered in _Computational Mathematics_. We will extend these to linear systems with fewer, or more equations than unknowns, i.e. based on non-square matrices. We will spend some time on the technique of Gaussian Elimination, and the LU decomposition which are central to direct methods of solving linear systems. For over-determined systems (more equations than unknowns) we look at the Least Squares method, and for under-determined (fewer equations than unknowns) we look at the minimum norm solution. We will finish our treatment of non-square systems in tomorrow's lecture with the Singular Value Decomposition and the generalized inverse.\n",
    "    \n",
    "### Important concepts: <a class=\"tocSkip\"></a>\n",
    "* the role of inversion and optimisation in science and engineering, data science, and machine learning and the relation between inversion and optimisation\n",
    "* the various ways to look at the rank of a matrix and its relation to the dimension of its null space, its range, and the space of solutions\n",
    "* conditions for the existence and uniqueness of solutions\n",
    "* the classification in equi-determined, under-determined, over-determined and mixed-determined\n",
    "* Gaussian Elimination, back substitution, pivotting and LU decomposition and its role in solving linear systems, but also determining the rank or the nullspace of a matrix\n",
    "* obtaining a least-squares solution to over-determined systems (using the normal equation)\n",
    "* obtaining a minimum-norm solution to under-determined systems"
   ]
  },
  {
   "cell_type": "code",
   "execution_count": 2,
   "metadata": {},
   "outputs": [],
   "source": [
    "%matplotlib inline\n",
    "%precision 6\n",
    "import numpy as np\n",
    "import matplotlib.pyplot as plt\n",
    "import scipy.linalg as sl\n",
    "from mpl_toolkits.mplot3d import Axes3D"
   ]
  },
  {
   "cell_type": "markdown",
   "metadata": {},
   "source": [
    "# Introductory comments - Inversion & Optimisation\n",
    "\n",
    "Many numerical problems in science, engineering, economics and other quantitative subjects can be posed as ***inversion*** or ***optimisation*** problems.    \n",
    "\n",
    "We will start our discussion by illustrating these problems in a single real variable, where the concepts will already be somewhat familiar, before moving on in this lecture to methods that take an analytical, linear algebra solution approach to multi-variable problems. In later lectures we will cover numerical based solution approaches and expand to nonlinear problems."
   ]
  },
  {
   "cell_type": "markdown",
   "metadata": {
    "slideshow": {
     "slide_type": "slide"
    }
   },
   "source": [
    "## Inversion\n",
    "\n",
    "Inversion can be thought of as seeking to use a given relationship such as the following \n",
    "\n",
    "$$y = f(x)$$\n",
    "\n",
    "to find $x$ given (1) a value for $y$ and (2) the form of the relationship embodied here in the function $f$ or a means to evaluate $f$.  "
   ]
  },
  {
   "cell_type": "markdown",
   "metadata": {
    "slideshow": {
     "slide_type": "fragment"
    }
   },
   "source": [
    "- The <a class=\"definition\" href=\"#definitions\" id=\"forwardproblem\">forward problem</a> can be thought of as: given $x$ what is $y$?"
   ]
  },
  {
   "cell_type": "markdown",
   "metadata": {
    "slideshow": {
     "slide_type": "fragment"
    }
   },
   "source": [
    "- The <a class=\"definition\" href=\"#definitions\" id=\"inverseproblem\">inverse problem</a> is the opposite: given $y$ what is $x$?"
   ]
  },
  {
   "cell_type": "markdown",
   "metadata": {
    "slideshow": {
     "slide_type": "fragment"
    }
   },
   "source": [
    "The first is usually relatively well-defined: given some inputs $x$ we have a model that generates some predictions $y$. The process of going from inputs $x$ to outcomes $y$ is described as a function $f$ which consists of a series of mathematical operations, or combination of algorithms, that we can perform step by step. The entire model can however become very complex and expensive to evaluate.\n",
    "\n",
    "This inversion problem may have no general solution, and its solution may be trivial, easy, difficult or impossible depending upon the form of $f$ and the value of $y$.  "
   ]
  },
  {
   "cell_type": "markdown",
   "metadata": {
    "slideshow": {
     "slide_type": "subslide"
    }
   },
   "source": [
    "### Trival examples <a class=\"tocSkip\"></a>\n",
    "\n",
    "Suppose $f(x) = \\alpha x$ with nonzero $\\alpha$, then the inverse of the function $f$ is $f^{-1}(y)=\\alpha^{-1} y$, and the solution to the inversion problem:\n",
    "\n",
    "> given $y$, for what value of $x$ do we have $f(x)=y$ ?\n",
    "    \n",
    "is simply $x=f^{-1}(y) = \\alpha^{-1} y$."
   ]
  },
  {
   "cell_type": "markdown",
   "metadata": {
    "slideshow": {
     "slide_type": "fragment"
    }
   },
   "source": [
    "Now suppose $f(x) = \\cos(x)$. Here we already have to be a little more careful: the output values $y=\\cos(x)$ only takes values in the range $-1\\leq y\\leq 1$. If $y\\gt 1$ or $y\\lt- 1$ there is no solution to the inverse problem $\\cos(x)=y$.\n",
    "\n",
    "The function $\\arccos(y)$ maps y-values between -1 and 1 to $x$-values between 0 and $\\pi$ such that $\\cos(x)=y$, and thus forms an inverse of $\\cos(x)$. However for any solution $x$ of $\\cos(x)=y$, we also get the solutions $x'=x+2k\\pi$ or $x'=-x+2k\\pi$ where $k$ is an arbitrary (positive or negative) integer in $\\mathbb{Z}$.\n",
    "\n",
    "This is the topic of *existence* and *uniqueness* of solutions."
   ]
  },
  {
   "cell_type": "markdown",
   "metadata": {
    "slideshow": {
     "slide_type": "fragment"
    }
   },
   "source": [
    "More generally many functions do not have an explicit formula for their inverse. Even the forward function might not be explicitly given as a simple analytical expression. For example, the function $f$ could be the solution of a time-dependent ODE or PDE, where $x$ is some initial condition value, and $y=f(x)$ is some value that depends on the final state. The solution to this ODE or PDE might only be obtained through a numerical approximation. This means that to evaluate $f(x)$ for a single value of $x$, we need to do an entire run of a numerical model which can potentially be very expensive. As you can imagine, in this case it is no longer feasible to simply compute $f(x)$ for all possible values of $x$ (or even some \"representative\" subset) and see what values give $f(x)=y$."
   ]
  },
  {
   "cell_type": "markdown",
   "metadata": {
    "slideshow": {
     "slide_type": "subslide"
    }
   },
   "source": [
    "### Linear and nonlinear problems in multiple dimensions\n",
    "\n",
    "In this module, we will look at methods that can be used to solve the multi-dimensional analogue of our original problem, that is find a solution for the vector $\\boldsymbol{x}$ given the equation  \n",
    "\n",
    "$$\\boldsymbol{y} = F(\\boldsymbol{x})$$\n",
    "\n",
    "and we will also consider scenarios where  $\\boldsymbol{x}$ and $\\boldsymbol{y}$ may be of different lengths.\n",
    "\n",
    "To indicate that $F$ is a function (we can also think of it as an operator) that maps vectors $\\boldsymbol{x}$ of length $n$ to vectors of $\\boldsymbol{y}$ of length $m$, we use the following notation:\n",
    "\n",
    "$$F: \\mathbb{R}^n \\to \\mathbb{R}^m.$$"
   ]
  },
  {
   "cell_type": "markdown",
   "metadata": {
    "slideshow": {
     "slide_type": "fragment"
    }
   },
   "source": [
    "If $F$ is linear, we can write $F$ as the the action of a matrix $\\underline{\\mathbf A}$ on $\\boldsymbol{x}$:\n",
    "\n",
    "$$F(\\boldsymbol{x}) = \\underline{\\mathbf A}\\boldsymbol{x}$$\n",
    "\n",
    "and the linear inversion problem is formulated as:\n",
    "\n",
    "$$\\text{find $\\boldsymbol{x}$ such that }\\underline{\\mathbf A}\\boldsymbol{x}=\\boldsymbol{y}$$\n",
    "\n",
    "Again considering the general case where $\\boldsymbol{x}$ has length $n$ that may be different from the length $m$ of $\\boldsymbol{y}$, the matrix has shape $m\\times n$ ($m$ rows by $n$ columns) and we can think of this problem as solving a linear system of $m$ equations with $n$ unknowns."
   ]
  },
  {
   "cell_type": "markdown",
   "metadata": {
    "slideshow": {
     "slide_type": "subslide"
    }
   },
   "source": [
    "#### Residual form <a class=\"tocSkip\"></a>\n",
    "Given the general nonlinear inversion problem\n",
    "\n",
    "$$\\text{find $\\boldsymbol{x}$ such that }\n",
    "F(\\boldsymbol{x}) = \\boldsymbol{y},$$\n",
    "\n",
    "which we can think of as $m$ nonlinear equations each with right-hand side $y_i, i=1\\ldots m$\n",
    "stored in a vector $\\boldsymbol{y}$, that we solve for a vector $\\boldsymbol{x}$ with entries $x_j, j=1\\ldots n$,\n",
    "we will often use the equivalent <a class=\"definition\" href=\"#definitions\" id=\"residualform\">residual form</a> of the equations\n",
    "\n",
    "$$\\text{find $\\boldsymbol{x}$ such that }\n",
    "R(\\boldsymbol{x}) \\equiv \\boldsymbol{y} - F(\\boldsymbol{x}) = \\boldsymbol{0}$$\n",
    "\n",
    "where $R(\\boldsymbol{x})$ is reffered to as the residual of the equations. Note that the choice for the sign of $R$ is arbitrary, we could also have the definition $R(\\boldsymbol{x}) \\equiv F(\\boldsymbol{x}) - \\boldsymbol{y}$."
   ]
  },
  {
   "cell_type": "markdown",
   "metadata": {
    "slideshow": {
     "slide_type": "fragment"
    }
   },
   "source": [
    "#### Root finding <a class=\"tocSkip\"></a>\n",
    "In this module we will look at various iterative methods, in which we start with a best guess for $\\boldsymbol{x}$ which we hope to iteratively improve. As we iterate towards the solution we should see that $R(\\boldsymbol{x})\\to \\boldsymbol{0}$. Thus the residual vector, and in particular its length $\\|R(\\boldsymbol{x})\\|$, can be used as a measure to indicate how well we are already satisfying the equations for the current approximation $\\boldsymbol{x}$.\n",
    "\n",
    "In this context we will often use the notation $\\boldsymbol{x}^\\ast$ to denote an exact solution, so $R(\\boldsymbol{x}^\\ast)=0$ exactly. For general $R$, the problem\n",
    "\n",
    "$$\\text{find $\\boldsymbol{x}^\\ast$ such that }\n",
    "R(\\boldsymbol{x^\\ast}) = \\boldsymbol{0}$$\n",
    "\n",
    "is referred to as a <a class=\"definition\" href=\"#definitions\" id=\"rootfindingproblem\">root-finding problem</a>, with the solutions $\\boldsymbol{x}^\\ast$ refered to as roots."
   ]
  },
  {
   "cell_type": "markdown",
   "metadata": {
    "slideshow": {
     "slide_type": "subslide"
    }
   },
   "source": [
    "### Inversion applications\n",
    "\n",
    "Based on the very general definiton we have used so far, inversion problems are everywhere in applied computational science engineering, data science and machine learning. Some broad cases:"
   ]
  },
  {
   "cell_type": "markdown",
   "metadata": {
    "slideshow": {
     "slide_type": "fragment"
    }
   },
   "source": [
    "#### Numerical Solution of PDEs <a class=\"tocSkip\"></a>\n",
    "When discretising PDEs the continuous equations are discretized into a finite number $m$ of equations that need to be solved for the discrete solution represented by a vector of $n$ unknowns (so called Degrees Of Freedom, or DOFs) that approximate the solution. If the underlying PDE is nonlinear, the discretized equations can also become nonlinear. If the PDE is time-dependent, often an inversion problem of $m$ equations and $n$ unknowns needs to be solved every time step. In the typical case the number of equations and unknowns is the same, $m=n$, and is associated with entities in the computional mesh (vertices, cells or edges). In high-resolution models this number can be very large.\n",
    "\n",
    "<table><tr><td><img src=\"figures/weather.png\" width=\"500\" /></td>\n",
    "    <td><img src=\"figures/ARC-1991-AC91-0397-1R~medium.jpg\" width=\"500\" /></td></tr></table>\n",
    "\n"
   ]
  },
  {
   "cell_type": "markdown",
   "metadata": {
    "slideshow": {
     "slide_type": "subslide"
    }
   },
   "source": [
    "#### Data Inversion <a class=\"tocSkip\"></a>\n",
    "In measurement the physical property we're actually interested in can often only be observed indirectly. For instance, remote sensing uses the reflective properties of the Earth's surface and atmosphere to infer various properties, such as vegetation on land, but also various oceanographic properties such as sea surface height, bathymetry, temperature and salinity, and currents. This relies on some understanding of how the unknown physical properties $\\boldsymbol{x}$ (e.g. vegetation) will affect the actual measured data (e.g. the reflected radiation observed by satelites), in other words we need a mathematical forward model $F(\\boldsymbol{x})$ that predicts for every possible value of $\\boldsymbol{x}$ what the actual measured values $\\boldsymbol{y}$ would be, so that for a given measurement $\\boldsymbol{y}$ we can invert for the actual $\\boldsymbol{x}$ by solving the inversion problem $F(\\boldsymbol{x})=\\boldsymbol{y}$. This predictive model can be anything from a simple empirical formula, to very sophisticated numerical models including the solution of PDEs.\n",
    "\n",
    "<table><tr>\n",
    "<td><img src=\"figures/survey-ship-diagram.png\" /></td>\n",
    "<td><img src=\"figures/brainscan.png\" /></td>\n",
    "<td><img src=\"figures/satellite.jpg\" /></td>\n",
    "</tr></table>\n",
    "\n"
   ]
  },
  {
   "cell_type": "markdown",
   "metadata": {
    "slideshow": {
     "slide_type": "fragment"
    }
   },
   "source": [
    "Our prediction of the observation is of course never perfect. The model $F(\\boldsymbol{x})$ may rely on various other data (other than the $\\boldsymbol x$ we are inverting for) and there may be a high degree of uncertainty in these. Moreover, any mathematical model is a simplification of the actual physical process that couples the property of interest $\\boldsymbol x$ with the observed measurement $\\boldsymbol y$, and finally the measurement $\\boldsymbol y$ may introduce some level of error/uncertainty. Thus we should never expect the model prediction $F(\\boldsymbol{x})$ to be matched exactly - rather we are simply trying to find a vector $\\boldsymbol x$ for which the prediction $F(\\boldsymbol{x})$ _best matches_ the observed data $\\boldsymbol y$. If we have some idea about the statistical distribution of the measurement and model errors, we can also translate this into a prediction about the uncertainty in the inverted property $\\boldsymbol x$."
   ]
  },
  {
   "cell_type": "markdown",
   "metadata": {
    "slideshow": {
     "slide_type": "subslide"
    }
   },
   "source": [
    "#### Parameter estimation, Curve Fitting and Regression <a class=\"tocSkip\"></a>\n",
    "Note that in the forward model $F$ that predicts some observed data $\\boldsymbol{Y}$, we are not typically inverting for all inputs to the function. We could divide the inputs to the model into two sets (vectors): \n",
    "\n",
    "$$\\boldsymbol{Y} = F(\\boldsymbol{X} ;  \\boldsymbol{m}) $$\n",
    "\n",
    "where the $\\boldsymbol{m}$ are the quantities we want to invert for, and assume that $\\boldsymbol{X}$ are fixed inputs that we already know to some degree. In which case we can consider the inversion problem\n",
    "\n",
    "$$\n",
    "\\text{find }\\boldsymbol m\\text{ such that }\n",
    "\\tilde F(\\boldsymbol m) = F(\\boldsymbol{X} ;  \\boldsymbol{m}) = \\boldsymbol{Y}\n",
    "$$\n",
    "\n",
    "in which $\\tilde F$ is the same model (function) $F$ but with fixed input $\\boldsymbol{X}$."
   ]
  },
  {
   "cell_type": "markdown",
   "metadata": {
    "slideshow": {
     "slide_type": "fragment"
    }
   },
   "source": [
    "In other applications however, the known inputs $\\boldsymbol{X}$ might be variable, and we might have a series of observations $i=1,\\dots N$ with for each known value $\\boldsymbol{X}_i$ for the input $\\boldsymbol{X}$, we have an observed output $\\boldsymbol{Y}_i$. Now the inversion takes the form\n",
    "\n",
    "$$\n",
    "\\text{find }\\boldsymbol m\\text{ such that }\n",
    "F(\\boldsymbol{X}_i ;  \\boldsymbol{m}) \\approx \\boldsymbol{Y}_i \\text{ for all } i=1, \\dots N\n",
    "$$\n",
    "\n",
    "Here $F$ could be a sophisticated model based on complex physical laws, that once the values for $\\boldsymbol{m}$ have been found, can be thought of as a way of predicting $\\boldsymbol Y$ for each input $\\boldsymbol X$, not only for the given set of inputs $\\boldsymbol X_i$ with known observations $\\boldsymbol{Y}_i$, but for any value of $\\boldsymbol X$. The (initially) unknown values $\\boldsymbol{m}$ can then be thought of as parameters or coefficients in the model, and the inversion for $\\boldsymbol{m}$ as a process to improve the model by finding optimal parameter values - a process refered to as parameter estimation."
   ]
  },
  {
   "cell_type": "markdown",
   "metadata": {
    "slideshow": {
     "slide_type": "subslide"
    }
   },
   "source": [
    "At the other extreme, $F$ could also be a very simple function. For instance in *linear regression* $F$ is simply a linear combination of some basis functions $\\phi_j(\\boldsymbol{X})$ with coefficients given by the $m_j$ from the unknown vector $\\boldsymbol{m}$:\n",
    "\n",
    "$$F(\\boldsymbol{X} ; \\boldsymbol{m}) = \\sum_j m_j \\phi_j(\\boldsymbol{X})$$\n",
    "\n",
    "In its simplest form this is just curve fitting, where we find the optimal coefficients $m_j$ that produces a curve that best fits the data: $\\boldsymbol{Y}_j \\approx F(\\boldsymbol{m} ; \\boldsymbol{X}_j)$. Again in many applications it is important to take into account the uncertainty in the known inputs $\\boldsymbol{X}_i$ and outputs $\\boldsymbol{Y}_i$ so that for instance we give less weight to the observations that we are less certain about, or expect to vary less. Note that in linear regression the basis functions $\\phi_j(\\boldsymbol{X})$ may well be nonlinear. More sophisticated models can be constructed in *nonlinear regression* by allowing $F$ to be nonlinear in $\\boldsymbol m$ as well."
   ]
  },
  {
   "cell_type": "markdown",
   "metadata": {
    "slideshow": {
     "slide_type": "fragment"
    }
   },
   "source": [
    "<table><tr>\n",
    "<td><img src=\"figures/xkcd-curve-fitting.jpg\" /></td></tr>\n",
    "<tr><td>A not so serious take on curve fitting from <a href=\"https://xkcd.com/2048\">https://xkcd.com/2048</a></td></tr>\n",
    "</table>"
   ]
  },
  {
   "cell_type": "markdown",
   "metadata": {
    "slideshow": {
     "slide_type": "subslide"
    }
   },
   "source": [
    "#### Machine Learning <a class=\"tocSkip\"></a>\n",
    "Regression is a central technique in many machine learning approaches. Here the inputs $\\boldsymbol X_i$ and (desired) outcomes $\\boldsymbol Y_i$ form a so called *training set*, and the inversion process is referred to as *learning* in which the model $F$ *learns* by improving its parameters $\\boldsymbol m$ such that $F$ better performs on the training set. A good example are neural networks in deep learning, in which the input vector $\\boldsymbol X_i$ is mapped to a series of inbetween vectors (the \"hidden layers\") before being mapped to the output vector $\\boldsymbol y_i$ with the maps between these layers being determined by the parameters $\\boldsymbol m$. In deep learning there can be many such layers and therefore many parameters $\\boldsymbol m$. To achieve good performance and avoid overfitting, a large training set is required. To enable learning with a large number of parameters, and large training sets, efficient inversion algorithms are essential.\n",
    "\n",
    "<table><tr><td>\n",
    "<img src=\"figures/Deep-Neural-Network-architecture.png\" width=\"800/\" /></td></tr>\n",
    "<tr><td>Figure from <a href=\"https://ieeexplore.ieee.org/document/8598488\">M. Bahi and M. Batouche, PAIS 2018</a></td></tr>\n",
    "</table>"
   ]
  },
  {
   "cell_type": "markdown",
   "metadata": {
    "slideshow": {
     "slide_type": "subslide"
    }
   },
   "source": [
    "### A simple inversion/parameter estimation example: polynomial interpolation/least squares curve-fitting\n",
    "\n",
    "A standard parameter estimation problem is fitting a function, defined by a vector of parameters, to a given dataset. We saw this example in the *Computational Mathematics* module.\n",
    "\n",
    "\n",
    "Suppose that our \"model\" is given by the polynomial (of degree $N$) function\n",
    "\n",
    "$$f(X; \\boldsymbol{a} ) = a_0 + a_1 X + a_2 X^2 + a_3 X^3 + \\ldots a_N X^N$$\n",
    "\n",
    "The vector of $N+1$ parameters $\\boldsymbol{a}$ fully describes our model, and in this case our model is linear in these parameters, and hence the process of finding the parameters is sometimes termed linear regression."
   ]
  },
  {
   "cell_type": "markdown",
   "metadata": {
    "slideshow": {
     "slide_type": "fragment"
    }
   },
   "source": [
    "Given some data, we will see that we end up with a ***linear*** problem to solve, even though our model is nonlinear in the inputs $X$.\n",
    "\n",
    "You can think of $X$ as locations we evaluate our model at in order to compare against or match to data, while $\\boldsymbol{a}$ are unknown input parameters to our model that describe in some sense the governing \"physics\".\n",
    "\n",
    "\n",
    "For the inversion problem we are assuming we know the $X$'s (e.g. maybe these are the locations our data is collected at) and the $y$'s (the observations of the output of our problem/model at these locations), and we want to find $\\boldsymbol{a}$ (i.e. the parameters that govern our model)."
   ]
  },
  {
   "cell_type": "markdown",
   "metadata": {},
   "source": [
    "If we choose $N$ to be a high value for our data, we may introduce excessive model capacity (high degree of freedom), leading to overfitting. Overfitting occurs when the model becomes too complex, capturing not only the underlying trends in the data but also the noise or artefacts specific to the dataset. In this case, the polynomial  $f(X; \\boldsymbol{a})$  may pass exactly through every data point, but the resulting function could exhibit unrealistic oscillations or poor generalisation to unseen data. This is a hallmark of a model with too many degrees of freedom relative to the complexity of the data.\n",
    "\n",
    "On the other hand, if  $N$  is chosen to be too low, the model capacity becomes insufficient, resulting in underfitting. In this scenario, the polynomial is too simple to capture the true behaviour of the data, leading to large residual errors between the model predictions and the observations.\n",
    "\n",
    "<img src=\"figures/polynomial_fitting.png\" width=\"600/\" /></td></tr>\n",
    "\n",
    "[source](https://livebook.manning.com/book/grokking-machine-learning/chapter-4/)\n"
   ]
  },
  {
   "cell_type": "markdown",
   "metadata": {
    "slideshow": {
     "slide_type": "subslide"
    }
   },
   "source": [
    "#### Problems leading to a square linear/matrix system - fitting a quadratic to three data points  <a class=\"tocSkip\"></a>\n",
    "\n",
    "In *Computational Mathematics* we considered cases where we  are given $N+1$ data points $(X_i, y_i)$ (with distinct $X_i$'s) and thus we can solve it for $\\boldsymbol{a}$ and fix/fully define our \"model\". We called this ***polynomial interpolation***.\n",
    "\n",
    "<br/>\n",
    "\n",
    "For example, consider a case where we have three data points $\\{(X_0,y_0),(X_1,y_1),(X_2,y_2)\\}$. \n",
    "\n",
    "First we note that the quadratic function has three free parameters and can fit this data exactly.\n",
    "\n",
    "Substituting the data into our quadratic model\n",
    "\n",
    "$$ y = f(X; \\boldsymbol{a} ) \\equiv a_0 + a_1\\,X + a_2\\,X^2$$\n",
    "\n",
    "leads to a system of three simultaneous equations for our three unknowns, or a $3\\times 3$ **linear** system to solve:\n",
    "\n",
    "$$\n",
    "\\begin{pmatrix}\n",
    "1 & X_0 & X_0^2 \\\\\n",
    "1 & X_1 & X_1^2 \\\\\n",
    "1 & X_2 & X_2^2\n",
    "\\end{pmatrix}\n",
    "\\begin{pmatrix}\n",
    "a_0\\\\\n",
    "a_1\\\\\n",
    "a_2\n",
    "\\end{pmatrix}\n",
    "=\n",
    "\\begin{pmatrix}\n",
    "y_0\\\\\n",
    "y_1\\\\\n",
    "y_2\n",
    "\\end{pmatrix} \\;\\;\\;\\;\\;\\;\\;\\text{or equivalently in matrix notation} \\;\\;\\;\\;\\;\\; \\underline{\\mathbf V}\\boldsymbol{a} =\\boldsymbol{y}.\n",
    "$$\n",
    "\n",
    "If we solve this system by inverting the matrix ($\\underline{\\mathbf V}$) we have our quadratic polynomial coefficients:  $\\boldsymbol{a} = \\underline{\\mathbf V}^{-1}\\boldsymbol{y}$.\n",
    "\n",
    "Let's form and solve the matrix system using appropriate NumPy functions.\n",
    "\n",
    "The matrix $\\underline{\\mathbf V}$ is called the [Vandermonde matrix](https://en.wikipedia.org/wiki/Vandermonde_matrix) and there is a Numpy function for it."
   ]
  },
  {
   "cell_type": "code",
   "execution_count": 3,
   "metadata": {},
   "outputs": [
    {
     "name": "stdout",
     "output_type": "stream",
     "text": [
      "V = \n",
      "[[1.   0.3  0.09]\n",
      " [1.   0.5  0.25]\n",
      " [1.   0.8  0.64]]\n",
      "\n",
      " Our coefficients a = \n",
      "[-1.8       8.866667 -7.333333]\n",
      "\n",
      "The output from np.polyfit(x, y, 2) = \n",
      " [-7.333333  8.866667 -1.8     ]\n",
      "\n",
      "Which agrees with us as long as we reverse the order of our coefficients:\n",
      "np.flip(a, 0) = \n",
      "[-7.333333  8.866667 -1.8     ]\n"
     ]
    },
    {
     "data": {
      "image/png": "[encoded data removed]",
      "text/plain": [
       "<Figure size 600x600 with 1 Axes>"
      ]
     },
     "metadata": {},
     "output_type": "display_data"
    }
   ],
   "source": [
    "def plot_raw_data(xi, yi, ax):\n",
    "    \"\"\"plot x vs y on axes ax, \n",
    "    add axes labels and turn on grid\n",
    "    \"\"\"\n",
    "    ax.plot(xi, yi, 'ko', label='raw data')\n",
    "    ax.set_xlabel('$X$', fontsize=16)\n",
    "    ax.set_ylabel('$y$', fontsize=16)\n",
    "    ax.grid(True)\n",
    "\n",
    "# three data point example\n",
    "Xi = [0.3, 0.5, 0.8]\n",
    "yi = [0.2, 0.8, 0.6]\n",
    "\n",
    "# use a function to construct the matrix above\n",
    "# note than numpy already has a function to do this\n",
    "V = np.vander(Xi, increasing=True)\n",
    "\n",
    "print('V = \\n{}'.format(V))\n",
    "\n",
    "# use a numpy linear algebra solver to solve the system\n",
    "# uses an LU algorithm - we'll come back to how this is done\n",
    "a = np.linalg.solve(V, yi)\n",
    "\n",
    "# output the coefficients for our quadratic we have computed\n",
    "print('\\n Our coefficients a = \\n{}\\n'.format(a))\n",
    "\n",
    "# show that they are the same as is obtained from \n",
    "# numpy's polyfit function (for a quadratic)\n",
    "# (which of course they should be, given we argued that this polynomial is unique)\n",
    "print('The output from np.polyfit(x, y, 2) = \\n {}'.format(np.polyfit(Xi, yi, 2)))\n",
    "\n",
    "# Note that the order is reversed because numpy.poly* assumes decreasing\n",
    "# rather than the increasing powers of x which we have used above\n",
    "\n",
    "# set up figure\n",
    "fig = plt.figure(figsize=(6, 6))\n",
    "ax1 = fig.add_subplot(111)\n",
    "\n",
    "# plot the raw data\n",
    "plot_raw_data(Xi, yi, ax1)\n",
    "\n",
    "# x locations at which to evaluate and plot the quadratic polynomial\n",
    "X = np.linspace(0., 1., 100)\n",
    "\n",
    "# Set up a polynomial from the coefficients using numpy rather than writing out.\n",
    "# Use numpy.flip to reverse the coefficients as poly1d assume decreasing rather than\n",
    "# increasing powers - look at documentation\n",
    "p2 = np.poly1d(np.flip(a, 0))\n",
    "print('\\nWhich agrees with us as long as we reverse the order of our coefficients:')\n",
    "print('np.flip(a, 0) = \\n{}'.format(np.flip(a, 0)))\n",
    "\n",
    "# the p2 here is a function so evaluate it at our x locations\n",
    "y = p2(X)\n",
    "\n",
    "# and plot\n",
    "ax1.plot(X, y, 'b', label='Quadratic')\n",
    "\n",
    "# add a figure title\n",
    "ax1.set_title('Polynomial approx to three data points', fontsize=16)\n",
    "# Add a legend\n",
    "ax1.legend(loc='best', fontsize=14)\n",
    "# set bounds\n",
    "ax1.set_xlim(0, 1)\n",
    "ax1.set_ylim(0, 1)\n",
    "plt.show()"
   ]
  },
  {
   "cell_type": "markdown",
   "metadata": {},
   "source": [
    "#### Problem leading to a non-square linear/matrix system - an example over-determined problem  <a class=\"tocSkip\"></a>\n",
    "\n",
    "In this module it is important that we understand and are able to deal with situations that result in non-square problems.\n",
    "\n",
    "As an example, let's suppose we have a case where our model is again quadratic, i.e. it has three model parameters:\n",
    "\n",
    "$$ y = f(X; \\boldsymbol{a} ) \\equiv x_0 + x_1\\,X + x_2\\,X^2,$$\n",
    "\n",
    "but let's further suppose we have been given *six* distinct pieces of data, i.e. we now have a mismatch - more data than unknowns.\n",
    "\n",
    "We can write our problem mathematically as\n",
    "\n",
    "$$\n",
    "\\begin{pmatrix}\n",
    "1 & X_0 & X_0^2 \\\\\n",
    "1 & X_1 & X_1^2 \\\\\n",
    "\\vdots & \\vdots & \\vdots \\\\\n",
    "1 & X_5 & X_5^2\n",
    "\\end{pmatrix}\n",
    "\\begin{pmatrix}\n",
    "a_0\\\\\n",
    "a_1\\\\\n",
    "a_2\n",
    "\\end{pmatrix}\n",
    "=\n",
    "\\begin{pmatrix}\n",
    "y_0\\\\\n",
    "y_1\\\\\n",
    "y_2\\\\\n",
    "y_3\\\\\n",
    "y_4\\\\\n",
    "y_5\n",
    "\\end{pmatrix},\n",
    "$$\n",
    "\n",
    "or equivalently $\\underline{\\mathbf V}\\boldsymbol{a} =\\boldsymbol{y}$ where now we have a ***non-square** version of the Vandermonde matrix (read the `numpy.vander` docs).\n",
    "\n",
    "In both the initial problem description, as well as this linear/matrix system, what does it mean to be a solution to this problem?\n",
    "\n",
    "Consider the simpler case of a *linear* (in $X$) model asked to pass through *three* data points. If the three points happened to lie along a line then we can solve the problem, i.e. we can invert for the model parameters. But if not there is no solution (at least no *exact* solution) that fits all the data."
   ]
  },
  {
   "cell_type": "markdown",
   "metadata": {},
   "source": [
    "### The least squares solution\n",
    "\n",
    "In the language of *Computational Mathematics* we are in the world of curve-fitting rather than interpolation - we can't find a model (curve) that fits all the data exactly, but can still obtain a potentially useful model if we appropriately define \"useful\".\n",
    "\n",
    "Previously we used the command `numpy.polyfit` to fit a polynomial to data where the polynomial wasn't of a high enough degree to go through all the data points (or some of the data points weren't at distinct $X$ values - i.e. two $y$ values for the same $X$, think a cloud of points).\n",
    "\n",
    "Instead of requiring the curve to go through all data points exactly (as for the cases above), we used ***least squares*** fitting to construct a function $f(X;\\boldsymbol{a})$, e.g. a polynomial in $X$ of degree $N$, (equivalently finding the parameters $\\boldsymbol{a}$  which minimises the sum of the squares of the differences between $M+1$ data points provided and the polynomial approximation, i.e. it minimises the quantity:\n",
    "\n",
    "$$E := \\sum_{i=0}^{M} (f(X_i;\\boldsymbol{a}) - y_i)^2,$$\n",
    "\n",
    "where $f(X_i;\\boldsymbol{a})$ is the output of our model evaluated at point $X_i$, and the $y_i$ are the corresponding data values.  Note that for the \"cloud of points\" example we will be in the case where $M+1 \\gt N$.\n",
    "\n",
    "<img src=\"https://upload.wikimedia.org/wikipedia/commons/b/b0/Linear_least_squares_example2.svg\" style=\"width: 300px\"/>\n",
    "\n",
    "*Figure from https://en.wikipedia.org/wiki/Linear_least_squares) We're computing the sum of the squares of the distances indicated in green.*"
   ]
  },
  {
   "cell_type": "markdown",
   "metadata": {},
   "source": [
    "Note that this $E$ can be defined equivalently as\n",
    "\n",
    "$$E=\\| \\boldsymbol{f}(\\boldsymbol{X}; \\boldsymbol{a} ) - \\boldsymbol{y}\\|_2^2\n",
    "= || V\\boldsymbol{a} - \\boldsymbol{y}||_2^2,$$\n",
    "\n",
    "where $\\| \\cdot \\|_2$ is the 2 norm  or the Euclidean norm.\n",
    "\n",
    "[*Note that $\\| \\cdot \\|_2$ takes the square root of the sum of squares, so that $E$ is the square of the 2-norm of the error. Since $E$ is always positive however, minimisation of $E$ is exactly equivalent to minimisation of the 2-norm*]."
   ]
  },
  {
   "cell_type": "markdown",
   "metadata": {},
   "source": [
    "We will show later that the coefficients ($\\boldsymbol{a}$) of the polynomial that minimises $E$ are given by the solution to the linear system\n",
    "\n",
    "$$V^TV\\boldsymbol{a} = V^T\\boldsymbol{y},$$\n",
    "\n",
    "where $V$ is again the Vandermonde matrix. \n",
    "\n",
    "<br/>\n",
    "\n",
    "[As we have seen, $V$ is no longer square in the case where $M+1 > N$. \n",
    "What is the shape of $V$, and indeed all the vectors and matrices appearing in this equation - is it \"dimensionally\" consistent?]\n",
    "\n",
    "<br/>\n",
    "\n",
    "Let's check that this is true by forming and solving the matrix system $V^TV\\boldsymbol{a} = V^T\\boldsymbol{y}$ for $\\boldsymbol{a}$ and comparing with the result we get using `numpy.polyfit`."
   ]
  },
  {
   "cell_type": "code",
   "execution_count": 4,
   "metadata": {
    "slideshow": {
     "slide_type": "subslide"
    }
   },
   "outputs": [
    {
     "name": "stdout",
     "output_type": "stream",
     "text": [
      "a = \n",
      " [ 0.759098 -0.431931  0.098893 -0.005521]\n",
      "\n",
      "poly_coeffs = \n",
      " [-0.005521  0.098893 -0.431931  0.759098]\n",
      "\n",
      "Our a vector = output from np.polyfit (as long as we flip the order)?  True\n"
     ]
    },
    {
     "data": {
      "image/png": "[encoded data removed]",
      "text/plain": [
       "<Figure size 800x600 with 1 Axes>"
      ]
     },
     "metadata": {},
     "output_type": "display_data"
    }
   ],
   "source": [
    "# Some random data\n",
    "X = np.array([0.5, 2.0, 4.0, 5.0, 7.0, 9.0])\n",
    "y = np.array([0.5, 0.4, 0.3, 0.1, 0.9, 0.8])\n",
    "\n",
    "# Consider a polynomial of degree 3 - so not high enough to go through all the data\n",
    "# (unless we're in the unlikely case where all the data happens to lie on a cubic!)\n",
    "N = 3\n",
    "\n",
    "# Use a numpy function to construct the Vandermonde matrix\n",
    "V = np.vander(X, N+1, increasing=True)\n",
    "\n",
    "# Form the matrix A by transposing V and multiplying by V:\n",
    "A = V.T @ V  # same as A = np.transpose(V) @ V\n",
    "\n",
    "# Use a function from SciPy's linalg sub-package to find the inverse:\n",
    "invA = sl.inv(A)\n",
    "\n",
    "# Form the RHS vector:\n",
    "rhs = V.T @ y\n",
    "\n",
    "# Multipy through by the inverse matrix to find a:\n",
    "a = invA @ rhs\n",
    "print('a = \\n', a)\n",
    "\n",
    "# Compare against the coefficient that numpy's polyfit gives us\n",
    "poly_coeffs = np.polyfit(X, y, N)\n",
    "print('\\npoly_coeffs = \\n', poly_coeffs)\n",
    "# they're the same, we just set up our algorithm to return the coefficient in the \n",
    "# opposite order to polyfit - we need to remember this when we evaluate the polynomial\n",
    "\n",
    "print('\\nOur a vector = output from np.polyfit (as long as we flip the order)? ', \n",
    "      np.allclose(np.flip(a), poly_coeffs))\n",
    "# set up figure\n",
    "fig = plt.figure(figsize=(8, 6))\n",
    "ax1 = fig.add_subplot(111)\n",
    "ax1.margins(0.1)\n",
    "\n",
    "XX = np.linspace(0.4, 9.1, 100)\n",
    "yy = a[0] + a[1] * XX + a[2] * XX**2 + a[3] * XX**3\n",
    "\n",
    "# Or, for any N, we can generalise as\n",
    "yy = sum([a[i] * XX**i for i in range(N+1)])\n",
    "\n",
    "ax1.plot(XX, yy, 'b', label='Least squares fit (cubic)')\n",
    "\n",
    "# Overlay raw data\n",
    "ax1.plot(X, y, 'ko', label='Raw data')\n",
    "ax1.set_xlabel('$X$', fontsize=16)\n",
    "ax1.set_ylabel('$y$', fontsize=16)\n",
    "ax1.set_title('Least squares approximation of a cubic to multiple data points', fontsize=16)\n",
    "ax1.grid(True)\n",
    "ax1.legend(loc='best', fontsize=14)\n",
    "\n",
    "plt.show()"
   ]
  },
  {
   "cell_type": "markdown",
   "metadata": {},
   "source": [
    "<!-- ### A more complex Inversion example\n",
    "\n",
    "In this example from some current research we have a model for tides in the Bristol Channel and Severn Estuary, there are multiple numerical and physical \"parameters\" that go into the model, including incoming tidal boundary conditions, bathymetry etc, some of which are known to varying levels of uncertainty. \n",
    "\n",
    "In this example we consider bed roughness (or bottom friction) as the parameters we wish to invert for, given the data of time series of tidal heights at tide gauges indicated by the red dots in the following image which also shows the discretised domain and the computational mesh\n",
    "\n",
    "<img src=\"./figures/mesh.png\" width=\"500x\"/>\n",
    "\n",
    "Using *a priori* information on the approximate distribution of sediment grain sizes on the seabed, we partition the domain into three zones: rock, gravel and sand, and assign one parameter value to each. In this case we therefore have more data than parameters.\n",
    "\n",
    "In this case an iterative approach is taken and the following figure shows how the inversion progresses\n",
    "\n",
    "<img src=\"./figures/thetis_inversion_convergence.png\" width=\"600x\" />\n",
    "\n",
    "$J$ is a misfit function between modelled tides and observations from real work tide gauges, and we solve the inversion problem by seeking to minimse $J$ - we see it drop as the model fit to data improves with iteration. How the three parameter values vary with iteration is also shown.\n",
    "\n",
    "The quality of the prediction can then be compared at the green squares where data was not used in the inversion. We find that the error in  prediction at these independent locations is indeed reduced within the same numerical model. We have also found that the prediction is improved when these physical values are used in a completely independent tidal model. This latter fact gives us some indication that our inversion is telling us something useful physically and not simply correcting for biases in the first model.\n",
    "\n",
    "For more details see <a href=\"https://link.springer.com/article/10.1007/s10236-022-01507-x\">Simon Warder et al., Ocean Dynamics volume 72, pages 361–382 (2022)</a> -->"
   ]
  },
  {
   "cell_type": "markdown",
   "metadata": {
    "slideshow": {
     "slide_type": "slide"
    }
   },
   "source": [
    "## Optimisation\n",
    "\n",
    "Now let's quickly review what ***optimisation*** is an how it relates to inversion.\n",
    "\n",
    "<br/><br/>\n",
    "\n",
    "Optimisation, in a single real variable, seeks to find a value for $x$ such that a scalar function \n",
    "\n",
    "$$f(x)$$\n",
    "\n",
    "has a minimum value (or equivalently that $-f(x)$ has a maximum value).    \n",
    "\n",
    "For example, $f(x)$   might  be  the  energy  of  a  particle  at  position  $x$. The  value  of  $x$  for  which  this  is  a  minimum will provide a rest position for the particle. \n",
    "\n",
    "Or we could have a problem where we are seeking a design of something that minimises cost or maximises profit.\n",
    "\n",
    "There  are  many  ways  to  solve  such  problems,  and  again  there  is  no  general  solution.  In practical real problems, there may be no solution, a single unique solution, several solutions  or infinitely many solutions.  "
   ]
  },
  {
   "cell_type": "markdown",
   "metadata": {
    "slideshow": {
     "slide_type": "subslide"
    }
   },
   "source": [
    "### Optimisation as an inversion problem\n",
    "\n",
    "One way to address the optimisation problem is to try to solve \n",
    "\n",
    "$$f'(x)=0$$\n",
    "\n",
    "With this approach note that  **we have converted an optimisation problem into an inversion problem**, a **root-finding problem** to be precise. We are looking for the $x$ values that satisfy this equation. This will give us the [stationary points](https://en.wikipedia.org/wiki/Stationary_point) of the problem. More on this in tomorrow's lecture."
   ]
  },
  {
   "cell_type": "markdown",
   "metadata": {
    "slideshow": {
     "slide_type": "subslide"
    }
   },
   "source": [
    "### Inversion as an optimisation problem\n",
    "\n",
    "In practice, it is often the case that in order **to solve an inversion  problem, it is instead converted into an optimisation problem**. \n",
    "\n",
    "For example, we can ***define a scalar misfit function*** measuring in some sense the difference between model predictions and observations and seek to iteratively minimise this misfit. The least squares error is an example of this. We showed above that we could write down the general solution to this problem. But it's only feasible to use that approach for small cases. For larger problems we will need iterative solution methods such as in the tidal example above.    "
   ]
  },
  {
   "cell_type": "markdown",
   "metadata": {
    "slideshow": {
     "slide_type": "subslide"
    }
   },
   "source": [
    "### Optimisation - simple example\n",
    "\n",
    "Consider the problem: find $\\boldsymbol{x}\\equiv (x,y)$ which minimises the function\n",
    "\n",
    "$$ f(\\boldsymbol{x}) = 1+2x + 4y + x^2+2xy+3y^2$$\n",
    "\n",
    "\n",
    "The following image shows a contour plot of the function, and the red star indicates the $(x,y)$ location of the minimum\n",
    "\n",
    "<img src=\"./figures/simple_optimisation.png\" width=\"300x\" />\n",
    "\n",
    "A homework exercise asks you to compute the minimum and to generate this image.\n",
    "\n",
    "We'll cover quadratic minimisation problems in more detail in tomorrow's lecture, and will generalize to more general non-linear functions at the end of this week."
   ]
  },
  {
   "cell_type": "markdown",
   "metadata": {
    "slideshow": {
     "slide_type": "subslide"
    }
   },
   "source": [
    "### Optimisation (more complex)\n",
    "\n",
    "The following movie shows iterations from an optimisation problem where our task is to maximise the power generated by an array of 256 individual tidal turbines. At every iteration a shallow water solver computes the flow field and the power of the array. The design parameters are then the $(x,y)$ location of each of the turbines.\n",
    "\n",
    "For more information see: [SW Funke et al., Tidal turbine array optimisation using the adjoint approach, Renewable Energy 63, 658-673](https://www.sciencedirect.com/science/article/pii/S0960148113004989).\n",
    "\n",
    "<video controls=\"\" loop=\"\" src=\"animations/array.mp4\" width=\"600\"></video>\n",
    "<br/>\n",
    "\n",
    "You'll return to this example in a later lecture on \"PDE-constrained optimisation\"."
   ]
  },
  {
   "cell_type": "markdown",
   "metadata": {
    "slideshow": {
     "slide_type": "slide"
    }
   },
   "source": [
    "# Existence and Uniqueness of Solutions and the rank of a matrix\n",
    "In the first three lectures we will concentrate on solving (large!) linear systems of equations efficiently, before we move on to inverting and optimising more complex nonlinear functions. As you will find out in later lectures, many nonlinear solver algorithms rely on the repeated solution of a linearised version of the nonlinear problem, so even there efficient linear solver algorithms are an essential ingredient. Today we will focus in particular on linear systems where the number of equations is not necessarily the same as the number unknowns. We will start with revising the question of how to determine whether a linear system has a solution and, if so, whether it is unique - you have seen this before in the _Computational Mathematics_ module, but today we want to make sure in particular that we have a more generalized picture of how this works even for non-square matrices."
   ]
  },
  {
   "cell_type": "markdown",
   "metadata": {
    "slideshow": {
     "slide_type": "subslide"
    }
   },
   "source": [
    "## Linear Independence\n",
    "\n",
    "<!-- $\\DeclareMathOperator\\span{span}$\n",
    "$\\DeclareMathOperator\\rank{rank}$ -->\n",
    "\n",
    "Before we move on it is important to remind ourselves of a few definitions. In the following assume\n",
    "V is a set of $k$ vectors with lenght $n$. in other words:\n",
    "\n",
    "$$ V = \\{ \\boldsymbol{v}_1, \\boldsymbol{v}_2, \\ldots \\boldsymbol{v}_k \\} \\subset \\mathbb{R}^n$$\n",
    "\n",
    "* a set of vectors V <a class=\"definition\" href=\"#definitions\" id=\"linearlydependent\">linearly dependent</a>, if one of the vectors can be written as a linear combination of the others\n",
    "* a set of vectors V <a class=\"definition\" href=\"#definitions\" id=\"linearlyindependent\">linearly independent</a>, if none of the vectors can be written as a linear combination of the others\n",
    "* if V contains more than $n$  vectors ( $k > n$ ), they must be linearly dependent. This is because, in  $\\mathbb{R}^n$ , there are only  $n$  “directions” or degrees of freedom. Once  $n$  linearly independent vectors are chosen, any additional vector can be written as a combination of these  $n$  vectors.\n",
    "\n",
    "Span\n",
    "* the space of all vectors than can be written as a linear combination of the vectors in V is called the span of V, or $\\mathrm{span}(V)$ for short: \n",
    "$$\\boldsymbol{v}^* \\in \\mathrm{span}(V) \\implies \\boldsymbol{v}^* = a_1 \\boldsymbol{v}_1 + a_2 \\boldsymbol{v}_2 + \\ldots + a_k \\boldsymbol{v}_k$$\n",
    "* The span of V is a subspace of $\\mathbb{R}^n$, which means that it's not just a subset of\n",
    "some vectors, but $\\mathrm{span}(V)$ forms a vector space on its own - which in\n",
    "particular means you can take any linear combination of vectors in the span of\n",
    "$V$ and the result is still in the same subspace.\n",
    "* If $V$ is formed of $k^*$ linearly independent vectors (this implies than $k^*\\leq n$)\n",
    "then the dimension of this subspace is $k^*$."
   ]
  },
  {
   "cell_type": "markdown",
   "metadata": {},
   "source": [
    "Span Intuition \n",
    "\n",
    "<img src=\"./figures/colour_span.webp\" width=\"600x\" />\n",
    "\n",
    "[source](https://mikebeneschan.medium.com/how-to-understand-span-linear-algebra-cf3baa12edda)\n",
    "\n",
    "For a set of two colours (vectors), the span of the set consists of all the shades (linear combinations) in between the colours."
   ]
  },
  {
   "cell_type": "markdown",
   "metadata": {
    "slideshow": {
     "slide_type": "subslide"
    }
   },
   "source": [
    "Examples:\n",
    "* If V consists of a single vector ($k=1$) then the span of V is the subspace\n",
    "  formed by all scalar multiples of that same vector. This subspace forms a\n",
    "line through the origin of $\\mathbb{R}^n$ and indeed has dimension $k^*=1$."
   ]
  },
  {
   "cell_type": "code",
   "execution_count": 5,
   "metadata": {},
   "outputs": [
    {
     "data": {
      "image/png": "[encoded data removed]",
      "text/plain": [
       "<Figure size 1000x800 with 1 Axes>"
      ]
     },
     "metadata": {},
     "output_type": "display_data"
    }
   ],
   "source": [
    "import numpy as np\n",
    "import matplotlib.pyplot as plt\n",
    "from mpl_toolkits.mplot3d import Axes3D\n",
    "\n",
    "# Define the single vector of n=3\n",
    "# The span of this vector is a line (k=1) in 3D space\n",
    "v = np.array([1, 2, 3])  # Vector to visualise\n",
    "\n",
    "# Generate scalar multiples of the vector\n",
    "t = np.linspace(-2, 2, 100)  # Range of scalars\n",
    "line = np.outer(t, v)        # Create all scalar multiples of the vector\n",
    "\n",
    "# Extract line coordinates\n",
    "X = line[:, 0]\n",
    "Y = line[:, 1]\n",
    "Z = line[:, 2]\n",
    "\n",
    "# Plotting\n",
    "fig = plt.figure(figsize=(10, 8))\n",
    "ax = fig.add_subplot(111, projection='3d')\n",
    "\n",
    "# Plot the vector span (line)\n",
    "ax.plot(X, Y, Z, color='blue', label='Span of vector v')\n",
    "\n",
    "# Plot the original vector as an arrow\n",
    "ax.quiver(0, 0, 0, v[0], v[1], v[2], color='red', label='Vector v', linewidth=2)\n",
    "\n",
    "# Set axis limits\n",
    "ax.set_xlim([-4, 4])\n",
    "ax.set_ylim([-4, 4])\n",
    "ax.set_zlim([-4, 4])\n",
    "\n",
    "# Labels and legend\n",
    "ax.set_xlabel('X-axis')\n",
    "ax.set_ylabel('Y-axis')\n",
    "ax.set_zlabel('Z-axis')\n",
    "ax.legend()\n",
    "\n",
    "# Title\n",
    "ax.set_title('Span of a Single Vector')\n",
    "\n",
    "plt.show()"
   ]
  },
  {
   "cell_type": "markdown",
   "metadata": {},
   "source": [
    "* If V consists of two **linearly dependent vectors** ($k=2$), then the span of V is a line passing through the origin in the direction of either vector, with dimension $k^* = 1$. This is because one vector can be expressed as a scalar multiple of the other, meaning both lie in each other's span.\n",
    "\n",
    "* However, if V consists of two **linearly independent vectors** ($k=2$), the span of V is a plane\n",
    "  with dimension $k^*=2$. If these two vectors are of lenght 2, i.e. they are in\n",
    "$\\mathbb{R}^2$, then this plane is in fact just the same as $\\mathbb{R}^2$. This means\n",
    "that any vector in $\\mathbb{R}^2$ can be written as a linear combination\n",
    "of these two vectors. If the two vectors are of length 3, i.e. V is a subset of $\\mathbb{R}^3$,\n",
    "then the span of V is a plane in $\\mathbb{R}^3$, i.e. a subspace of dimension 2.\n",
    "\n"
   ]
  },
  {
   "cell_type": "code",
   "execution_count": 6,
   "metadata": {},
   "outputs": [
    {
     "data": {
      "image/png": "[encoded data removed]",
      "text/plain": [
       "<Figure size 1000x800 with 1 Axes>"
      ]
     },
     "metadata": {},
     "output_type": "display_data"
    }
   ],
   "source": [
    "# Define the two linearly independent vectors of n=3\n",
    "# The span of these vectors is a plane in 3D space\n",
    "v1 = np.array([1, 0, 0])  # Vector 1\n",
    "v2 = np.array([0, 1, 0])  # Vector 2\n",
    "\n",
    "# Generate coefficients for the linear combination\n",
    "a = np.linspace(-2, 2, 20)  # Range of coefficients for v1\n",
    "b = np.linspace(-2, 2, 20)  # Range of coefficients for v2\n",
    "\n",
    "# Create a grid of all combinations of a and b\n",
    "A, B = np.meshgrid(a, b)\n",
    "\n",
    "# Compute the plane spanned by v1 and v2\n",
    "X = A * v1[0] + B * v2[0]\n",
    "Y = A * v1[1] + B * v2[1]\n",
    "Z = A * v1[2] + B * v2[2]\n",
    "\n",
    "# Plotting the plane\n",
    "fig = plt.figure(figsize=(10, 8))\n",
    "ax = fig.add_subplot(111, projection='3d')\n",
    "\n",
    "# Plot the spanned plane\n",
    "ax.plot_surface(X, Y, Z, alpha=0.5, rstride=1, cstride=1, color='cyan', edgecolor='none')\n",
    "\n",
    "# Plot the original vectors\n",
    "ax.quiver(0, 0, 0, v1[0], v1[1], v1[2], color='red', label='Vector v1', linewidth=2)\n",
    "ax.quiver(0, 0, 0, v2[0], v2[1], v2[2], color='blue', label='Vector v2', linewidth=2)\n",
    "\n",
    "# Set axis limits\n",
    "ax.set_xlim([-3, 3])\n",
    "ax.set_ylim([-3, 3])\n",
    "ax.set_zlim([-3, 3])\n",
    "\n",
    "# Labels and legend\n",
    "ax.set_xlabel('X-axis')\n",
    "ax.set_ylabel('Y-axis')\n",
    "ax.set_zlabel('Z-axis')\n",
    "ax.legend()\n",
    "\n",
    "# Title\n",
    "ax.set_title('Plane Spanned by Two Linearly Independent Vectors')\n",
    "\n",
    "plt.show()"
   ]
  },
  {
   "cell_type": "markdown",
   "metadata": {},
   "source": [
    "\n",
    "\n",
    "\n",
    "* Things becomes harder to visualise in higher dimensions, but the same pattern applies: $k^*$ linearly independent vectors in $\\mathbb{R}^n$ span a $k^*$-dimensional subspace of $\\mathbb{R}^n$ and $n$ linearly independent vectors in $\\mathbb{R}^n$ span all of $\\mathbb{R}^n$."
   ]
  },
  {
   "cell_type": "markdown",
   "metadata": {
    "slideshow": {
     "slide_type": "subslide"
    }
   },
   "source": [
    "A linearly independent set of vectors that span a vector space (be it a subspace of $\\mathbb{R}^n$ or all of $\\mathbb{R}^n$) is also\n",
    "referred to as a **basis** for that vector space.\n",
    "\n",
    "If V is a linear-dependent set of vectors, we can reduce it. By definition, at\n",
    "least one of the vectors can be written as a linear combination of the others,\n",
    "and is thus in a sense redundant: it is already in the span of $V$. If we leave\n",
    "it out, the span of the remaining vectors is still the same. In this way we can\n",
    "remove linearly dependent vectors from $V$ until $V$ becomes linearly\n",
    "independent in order to simplify systems of equations. \n",
    "\n",
    "The dimension of the span of $k$ linearly dependent set of vectors\n",
    "is therefore smaller than $k$: it is equal to the number of linear independent\n",
    "vectors within $V$."
   ]
  },
  {
   "cell_type": "markdown",
   "metadata": {
    "slideshow": {
     "slide_type": "subslide"
    }
   },
   "source": [
    "#### Independent columns in a matrix <a class=\"tocSkip\"></a>\n",
    "Now why is this relevant for the solution of linear systems?\n",
    "Let's take a closer look at what we are actually doing when we calculate a matrix vector product\n",
    "of a $m\\times n$ matrix $\\underline{\\mathbf A}$ with an $n$-vector $\\boldsymbol{x}$:\n",
    "\n",
    "$$\n",
    "  \\underline{\\mathbf A}\\boldsymbol{x} = \n",
    "\\begin{pmatrix}\n",
    "\\boldsymbol{a}_{:1} & \\boldsymbol{a}_{:2} & \\ldots & \\boldsymbol{a}_{:n}\n",
    "\\end{pmatrix}\n",
    "\\begin{pmatrix}\n",
    "  x_1 \\\\ x_2 \\\\ \\vdots \\\\ x_n\n",
    "\\end{pmatrix}\n",
    "= x_1 \\boldsymbol{a}_{:1} + x_2 \\boldsymbol{a}_{:2} + \\ldots x_n \\boldsymbol{a}_{:n}\n",
    "$$\n",
    "\n",
    "here the $\\boldsymbol{a}_{:j}$ are vectors of length $m$ that represent the $n$ columns of the matrix.\n",
    "Written out in this way we see that we are simply taking a linear combination of the matrix columns, with coefficients\n",
    "given by the $x_j$ entries of $\\boldsymbol{x}$. Thus the result of this matrix vector product is in the span of the column vectors!"
   ]
  },
  {
   "cell_type": "markdown",
   "metadata": {
    "slideshow": {
     "slide_type": "fragment"
    }
   },
   "source": [
    "Returning to our linear inverse problem, where we aim to find  $\\boldsymbol{x}$  from a set of observations  $\\boldsymbol{b}$ :\n",
    "\n",
    "\n",
    "$$\\underline{\\mathbf{A}} \\boldsymbol{x} = \\boldsymbol{b},$$\n",
    "\n",
    "\n",
    "we can immediately observe that the system has a solution only if the right-hand side vector  $\\boldsymbol{b}$  lies in the span of the column vectors of  $\\underline{\\mathbf{A}}$ . This is because the matrix-vector product  $\\underline{\\mathbf{A}} \\boldsymbol{x}$  can only produce vectors that are linear combinations of the columns of  $\\underline{\\mathbf{A}}$ as seen above. If  $\\boldsymbol{b}$  is not in this span, the system does not have a solution.\n",
    "\n",
    "Rank\n",
    "\n",
    "The span of the column vectors of  $\\underline{\\mathbf{A}}$  determines the set of all possible vectors that the matrix  $\\underline{\\mathbf{A}}$  can map to through this linear combination. This subspace is also referred to as the range (or column space) of the matrix.\n",
    "\n",
    "The dimension of the range $k^*$, which corresponds to the number of linearly independent columns in  $\\underline{\\mathbf{A}}$ , is called the rank of the matrix, noted by $\\mathrm{rank}(\\underline{\\mathbf{A}})$.\n",
    "\n",
    "The system is solvable for any arbitrary right-hand side vector  $\\boldsymbol{b}$  only if the range of  $\\underline{\\mathbf{A}}$  spans all of  $\\mathbb{R}^m $, meaning that every possible vector in  $\\mathbb{R}^m$  can be expressed as a linear combination of the column vectors of  $\\underline{\\mathbf{A}}$ . This occurs when  $\\mathrm{rank}(\\underline{\\mathbf{A}}) = m$ , which implies that  $\\underline{\\mathbf{A}}$  has full column rank and no columns are linearly dependent."
   ]
  },
  {
   "cell_type": "markdown",
   "metadata": {
    "slideshow": {
     "slide_type": "subslide"
    }
   },
   "source": [
    "#### Independent rows in a matrix <a class=\"tocSkip\"></a>\n",
    "We have made a link between linear independence of the columns of a matrix, and the solvability of the linear system. Can we do the same with the rows of the matrix?\n",
    "\n",
    "$$\n",
    "  \\underline{\\mathbf A}\\boldsymbol{x} = \n",
    "\\begin{pmatrix}\n",
    "a_{11}  & a_{12}  & \\ldots & a_{nn} \\\\\n",
    "a_{21}  & a_{22}  & \\ldots & a_{2n} \\\\ \n",
    "\\vdots & \\vdots & \\ddots & \\vdots \\\\\n",
    "a_{m1}  & a_{m2}  & \\ldots & a_{mn} \\\\ \n",
    "\\end{pmatrix}\n",
    "\\begin{pmatrix}\n",
    "  x_1 \\\\ x_2 \\\\ \\vdots \\\\ x_n\n",
    "\\end{pmatrix}\n",
    "=\n",
    "\\begin{pmatrix}\n",
    "a_{11} x_1 + a_{12} x_2 + \\ldots + a_{nn} x_n \\\\\n",
    "a_{21} x_1  + a_{22} x_2  + \\ldots + a_{2n} x_n \\\\ \n",
    "\\vdots \\\\\n",
    "a_{m1} x_1  + a_{m2} x_2  + \\ldots + a_{mn} x_n\n",
    "\\end{pmatrix}\n",
    "=\n",
    "\\begin{pmatrix}\n",
    "  b_1 \\\\ b_2 \\\\ \\vdots \\\\ b_m\n",
    "\\end{pmatrix}\n",
    "$$\n",
    "\n",
    "Here, each row of $\\mathbf{A}$ represents a linear equation in the unknown vector $\\boldsymbol{x}$, with the right-hand side determined by the corresponding entries of $\\boldsymbol{b}$. To understand the effect of row independence on the system, consider adding the equations one by one.\n",
    "\n",
    "Initially, when no equations are present, the solution space consists of all vectors in $\\mathbb{R}^n$. Introducing the first row restricts the set of possible solutions to a hyperplane in $\\mathbb{R}^n$, reducing the dimensionality of the solution space from n to n-1, provided that the first row is nontrivial.\n",
    "\n",
    "Each additional row imposes a new constraint on $\\boldsymbol{x}$. If the rows are linearly independent, every new row further reduces the dimensionality of the solution space."
   ]
  },
  {
   "cell_type": "markdown",
   "metadata": {
    "slideshow": {
     "slide_type": "fragment"
    }
   },
   "source": [
    "However if we introduce a new row that is a linear combination of one of the previous rows, we have to be careful. Say for instance the third row we introduce is simply the sum of the first and second row, if $\\boldsymbol{x}$ satisfies the first two equations (left-hand side equals right-hand side) then the sum of the left-hand side of the first two equations has to be the same as the sum of the right hand side: $b_1+b_2$. Thus if the left-hand side of the third equation is the sum of the first two, then the right-hand side of the third equation, $b_3$ also has to be: $b_3=b_1+b_2$.\n",
    "\n",
    "\n",
    "$$\n",
    "\\begin{pmatrix}\n",
    "\\textcolor{green}{1} & \\textcolor{green}{2} & \\textcolor{green}{1} \\\\\n",
    "4 & 1 & 1 \\\\\n",
    "\\textcolor{green}{2} & \\textcolor{green}{4} & \\textcolor{green}{2}\n",
    "\\end{pmatrix}\n",
    "\\begin{pmatrix}\n",
    "x_1 \\\\ x_2 \\\\ x_3\n",
    "\\end{pmatrix}\n",
    "=\n",
    "\\begin{pmatrix}\n",
    "\\textcolor{green}{7} \\\\\n",
    "9 \\\\\n",
    "\\textcolor{green}{14}\n",
    "\\end{pmatrix}\n",
    "✓\n",
    "$$\n",
    "\n",
    "$$\n",
    "\n",
    "\\begin{pmatrix}\n",
    "\\textcolor{green}{1} & \\textcolor{green}{2} & \\textcolor{green}{1} \\\\\n",
    "4 & 1 & 1 \\\\\n",
    "\\textcolor{green}{2} & \\textcolor{green}{4} & \\textcolor{green}{2}\n",
    "\\end{pmatrix}\n",
    "\\begin{pmatrix}\n",
    "x_1 \\\\ x_2 \\\\ x_3\n",
    "\\end{pmatrix}\n",
    "=\n",
    "\\begin{pmatrix}\n",
    "\\textcolor{green}{7} \\\\\n",
    "9 \\\\\n",
    "\\textcolor{red}{13}\n",
    "\\end{pmatrix}\n",
    "✗\n",
    "\n",
    "$$\n",
    "\n",
    "\n",
    "Thus we see that this system of equations no longer has a solution if $b_3\\neq b_1+b_2$. The same can be said for any linearly dependent row we add to the system. Only if we have $m$ linearly independent rows, does the system have a solution for arbitrary right-hand side vectors $\\boldsymbol{b}$."
   ]
  },
  {
   "cell_type": "markdown",
   "metadata": {
    "slideshow": {
     "slide_type": "fragment"
    }
   },
   "source": [
    "This sounds very familiar to what we concluded for matrix columns. In fact it can be shown that **the number of linearly independent columns in a matrix is the same as the number of linearly independent rows** in a matrix! Thus we can define the <a class=\"definition\" href=\"#definitions\" id=\"rankofamatrix\">rank of a matrix</a> as either the number of linearly independent columns or the number of linearly independent rows, and a system $\\underline{\\mathbf A}\\boldsymbol{x}=\\boldsymbol{b}$ is only solvable for abritrary $\\boldsymbol{b}$ if $\\mathrm{rank}(\\underline{\\mathbf A})=m$."
   ]
  },
  {
   "cell_type": "markdown",
   "metadata": {
    "slideshow": {
     "slide_type": "slide"
    }
   },
   "source": [
    "## Uniqueness of the Solution\n",
    "As we just saw, if we consider introducing rows one by one as additional constraints, we gradually reduce the space of solutions. Every linearly independent row that we add, reduces the solution space by one dimension. So we start by seeking a solution in $\\mathbb{R}^n$, then the vectors that satisfy just the first (row) equation is a $n-1$-dimensional subspace (\\*), vectors satisfying the first two linearly-independent equations are constrained to an ever smaller $n-2$-dimensional subspace etc.\n",
    "\n",
    "For example, say we have $3\\times 3$ matrix. Without any equation constraints, any point in the $\\mathbb{R}^3$ volume is a possible solution. Then the first equation restricts us to a plane in $\\mathbb{R}^3$. With the first two equations this becomes a line in $\\mathbb{R}^3$. And finally, satisfying all three equations, we have reduced our solution space to a single point in $\\mathbb{R}^3$ - we get a unique solution."
   ]
  },
  {
   "cell_type": "markdown",
   "metadata": {
    "slideshow": {
     "slide_type": "fragment"
    }
   },
   "source": [
    "(\\*) Side note: Although you don't really need to know the difference for this module, the solution space is a so called _affine_ subspace of $\\mathbb{R}^n$ but not a _linear_ subspace. This is because linear combinations of solutions in the solution subspace are not in general solutions to the same linear system, and the subspace does not contain the zero vector (the origin), so the solution subspace is not a vector space on its own. Affine subspaces can be thought of as a linear subspace followed by a translation, so that it's moved away from the origin. Lines and planes that do not (necessarily) go through the origin are examples of 1-dimensional and 2-dimensional affine subspaces."
   ]
  },
  {
   "cell_type": "markdown",
   "metadata": {
    "slideshow": {
     "slide_type": "subslide"
    }
   },
   "source": [
    "If we add a row however that is linearly dependent on its previous rows, as we just saw, whether or not there is a solution depends on the right-hand side vector: if the new row is some linear combination of the previous rows, we only guarantee the existence of a solution if the right-hand side is the same linear combination of the previous entries of the right-hand side vector. \n",
    "\n",
    "But in that case the new row does not really add any new constraint: vectors that already satisfy the previous equations automatically satisfy the new one - in a sense this new row is redundant. Thus we see that we only reduce the dimension of our solution space through linearly independent rows. If we want to reduce the solution space to a single point, i.e. we want a unique solution we need $n$ linearly independent equations."
   ]
  },
  {
   "cell_type": "markdown",
   "metadata": {
    "slideshow": {
     "slide_type": "fragment"
    }
   },
   "source": [
    "Again using the fact that $\\mathrm{rank}(\\underline{\\mathbf A})$ is also the number of independent rows. We now have two different conditions:\n",
    "\n",
    "For **Existence** of a solution (for arbitrary right-hand side vector), we need $\\mathrm{rank}(\\underline{\\mathbf A})=m$\n",
    "\n",
    "For **Uniqueness** of a solution, we need $\\mathrm{rank}(\\underline{\\mathbf A})=n$."
   ]
  },
  {
   "cell_type": "markdown",
   "metadata": {
    "slideshow": {
     "slide_type": "subslide"
    }
   },
   "source": [
    "#### Uniqueness and nullspace <a class=\"tocSkip\"></a>\n",
    "Another way to look at uniqueness of a solution to a linear system is to relate it to the null space of the matrix.\n",
    " Suppose we have two solutions to a system:\n",
    "\n",
    "$$\\underline{\\mathbf A}\\boldsymbol{x}_1 = \\boldsymbol{b} \\text{ and }\n",
    "\\underline{\\mathbf A}\\boldsymbol{x}_2 = \\boldsymbol{b}$$\n",
    "\n",
    "then if we subtract these two systems, we get\n",
    "$$\\underline{\\mathbf A}\\left(\\boldsymbol{x}_1-\\boldsymbol{x}_2\\right) = \\boldsymbol{0}$$\n",
    "\n",
    "in other words $\\boldsymbol{v}=\\boldsymbol{x}_1-\\boldsymbol{x}_2$ is a zero eigenvector of the matrix $\\underline{\\mathbf A}$, also called a null mode.\n",
    "\n",
    "The space of all null modes is referred to as the *kernel* or *null space* of $\\underline{\\mathbf A}$, or $\\ker(\\underline{\\mathbf A})$ for short. Any scalar multiple of a null mode, and arbitrary linear combinations of null modes are null modes themselves, the kernel is therefore a _linear subspace_ of $\\mathbb{R}^n$."
   ]
  },
  {
   "cell_type": "markdown",
   "metadata": {
    "slideshow": {
     "slide_type": "subslide"
    }
   },
   "source": [
    "Whenever we find a solution $\\boldsymbol{x}$ to our linear system, we can always add any vector $v$ from the kernel and the sum will also be a solution:\n",
    "\n",
    "$$\n",
    "\\underline{\\mathbf A}\\left(\\boldsymbol{x}+\\boldsymbol{v}\\right) =\n",
    "\\underline{\\mathbf A}\\boldsymbol{x}+\\underline{\\mathbf A}\\boldsymbol{v} = \\boldsymbol{b} + \\boldsymbol{0} = \\boldsymbol{b}$$\n",
    "\n",
    "Thus we can only expect the solution to be unique if there are no non-trivial null modes.\n",
    "\n",
    "Note that the zero vector $\\boldsymbol{0}$ is always a (trivial) null mode. The solution is therefore unique if the kernel of the matrix consists only of that zero vector, or said differently if the dimension of the kernel is 0. The dimension of the kernel is always the same as the dimension of the space of solutions to the system."
   ]
  },
  {
   "cell_type": "markdown",
   "metadata": {
    "slideshow": {
     "slide_type": "subslide"
    }
   },
   "source": [
    "Our previous conclusion that we need $n$ linearly independent rows also follows directly from the so called\n",
    "rank-nullity theorem which states that:\n",
    "\n",
    "$$\\mathrm{rank}(\\underline{\\mathbf A}) + \\operatorname{dim}(\\ker(\\underline{\\mathbf A})) = \\text{ the number of columns } n$$\n"
   ]
  },
  {
   "cell_type": "markdown",
   "metadata": {
    "slideshow": {
     "slide_type": "slide"
    }
   },
   "source": [
    "## Classification of square and non-square matrix systems\n",
    "Note that our previous conclusion about _existence_ and _uniqueness_ of solutions holds true for matrices of arbitrary shape $m \\times n$, so even for the non-square case where the number of rows $m$ is different than the number of columns $n$, can we say $\\underline{\\mathbf A}\\boldsymbol{x} = \\boldsymbol{b}$ is solvable for arbitrary $\\boldsymbol{b}$ if $\\mathrm{rank}(\\underline{\\mathbf A})=m$.\n",
    "\n",
    "As we have seen however, the rank of the matrix is both the number of linearly independent columns as well as the number of linearly independent rows. The rank can therefore never be larger than the number of columns or larger than the number of rows:\n",
    "\n",
    "$$\\mathrm{rank}(\\underline{\\mathbf A}) \\leq \\min(m, n)$$"
   ]
  },
  {
   "cell_type": "markdown",
   "metadata": {
    "slideshow": {
     "slide_type": "subslide"
    }
   },
   "source": [
    "In the case where\n",
    "$\\mathrm{rank}(\\underline{\\mathbf A}) = \\min(m, n)$ we will say that the matrix is <a class=\"definition\" href=\"#definitions\" id=\"fullrank\">full-rank</a> and if\n",
    "$\\mathrm{rank}(\\underline{\\mathbf A}) \\lt \\min(m, n)$ we will call the matrix <a class=\"definition\" href=\"#definitions\" id=\"rankdeficient\">rank-deficient</a>.\n",
    "\n",
    "We can distinguish three cases:"
   ]
  },
  {
   "cell_type": "markdown",
   "metadata": {
    "slideshow": {
     "slide_type": "fragment"
    }
   },
   "source": [
    "* If $m=n$, we call the linear system <a class=\"definition\" href=\"#definitions\" id=\"equidetermined\">equi-determined</a>. If the matrix is *full-rank*, we have $\\mathrm{rank}(\\underline{\\mathbf A})=m=n$: a solution exists for any right-handside, and that solution is unique. If the matrix is *rank-deficient* then a solution only exists for some right-hand side vectors, and the solution is also not unique.\n",
    "\n",
    "* If $m\\lt n$ we call the linear system <a class=\"definition\" href=\"#definitions\" id=\"underdetermined\">under-determined</a>: we have fewer equations than entries in $\\boldsymbol{x}$. If the matrix is *full-rank*, $\\mathrm{rank}(\\underline{\\mathbf A})=m$, solutions exist for any right-hand side, but the solutions will not be unique since $\\mathrm{rank}(\\underline{\\mathbf A})\\lt n$. The *rank-deficient* case makes things worse: no guaranteed existance and solutions (if they do exist) are non-unique.\n",
    "\n",
    "* If $m\\gt n$ we call the linear system <a class=\"definition\" href=\"#definitions\" id=\"overdetermined\">over-determined</a>: we have more equations than entries in $\\boldsymbol{x}$. Even if the matrix is full-rank, we still have $\\mathrm{rank}(\\underline{\\mathbf A})=n < m$, thus we do not get a solution for every right-hand side vector. If a solution does exist however, it will be unique. Again *rank-deficient* makes things worse: solutions are not guaranteed to exist, and if they do exist they are not unique."
   ]
  },
  {
   "cell_type": "markdown",
   "metadata": {
    "slideshow": {
     "slide_type": "subslide"
    }
   },
   "source": [
    "#### Existence of solutions in practice  <a class=\"tocSkip\"></a>\n",
    "An equivalent way of saying that the equations have a solution (existence of a solution) for a given right-hand side vector, is that the equations are consistent, i.e. they are not contradicting each other.\n",
    "\n",
    "From the above three cases we can see that if the matrix is over-determined, or is rank-deficient, a solution does not always exist for every right-hand side vector. In practice however this means that inversion problems based on such a matrix do not have an exact solution in almost all practical cases.\n",
    "\n",
    "Say for instance we look at a classical inversion problem where we try to match some unknown properties $\\boldsymbol{x}$ through a linear forward model (represented by the matrix) with measurements in a right-hand side vector $\\boldsymbol{b}$; If some of the rows are linearly dependent, we only get a solution if that linear dependence is consistent with the measurements in the right-hand side vector. In practice however, there will always be measurement errors, and model errors, so that the chance of the right-hand side vector indeed being consistent is practically zero.\n",
    "\n",
    "Similarly, if our model is a linear regression that tries to match measurements at specific locations where we expect some variability (over time) in the measured values. We might (accidentily or on purpose) end up with multiple measurements at the same location. In the linear regression matrix, this corresponds to rows that are identical and therefore linearly dependent; Because of the variability however we do not expect the right-hand side entries corresponding with these rows to be exactly the same - and thus an exact solution does not exist."
   ]
  },
  {
   "cell_type": "markdown",
   "metadata": {
    "slideshow": {
     "slide_type": "slide"
    }
   },
   "source": [
    "## Mixed determined\n",
    "An under-determined system only guarantees existence of a solution, and an over-determined system only guarantees uniqueness if the matrix is full-rank. We will also call this purely under-determined and purely over-determined respectively. If the matrices are not full-rank, but rank-deficient, this is often called mixed-determined, in which case neither existence nor uniqueness are guaranteed. This term also applies to the rank-deficient equi-determined case.\n",
    "\n",
    "Mixed determined cases often involve situations where some unknowns (or linear combinations of unknowns) are described by too many equations, and some unknowns by too few equations. In a sense they can thus be described as a combination of (purely) over-determined and under-determined.\n",
    "\n",
    "Many, large, real-world, inversion problems are likely to be mixed-determined.  In practice it can also be very difficult to discover if a large system is mixed determined or not, and so in practical problems we will often proceed by assuming that the problem is mixed-determined, employing an iterative numerical approach."
   ]
  },
  {
   "cell_type": "markdown",
   "metadata": {
    "slideshow": {
     "slide_type": "subslide"
    }
   },
   "source": [
    "#### Mixed determined - Example 1 <a class=\"tocSkip\"></a>\n",
    "\n",
    "Consider the following problem:\n",
    "\n",
    "$$\n",
    "\\begin{pmatrix}\n",
    "1 & 0 & 0 \\\\\n",
    "1 & 0 & 0 \\\\\n",
    "0 & 2 & 2 \\\\\n",
    "0 & 3 & 3\n",
    "\\end{pmatrix}\n",
    "\\begin{pmatrix}\n",
    "x_1\\\\\n",
    "x_2\\\\\n",
    "x_3\n",
    "\\end{pmatrix}\n",
    "=\n",
    "\\begin{pmatrix}\n",
    "1\\\\\n",
    "2\\\\\n",
    "2\\\\\n",
    "3\n",
    "\\end{pmatrix}.\n",
    "$$\n",
    "\n",
    "For this problem, $x_1$ is over-determined since there is no possible value of $x_1$ that can exactly fit both of the first two equations in this system - the first two equations/constraints are inconsistent:\n",
    "\n",
    "* The first equation says: $x_1 = 1$\n",
    "\n",
    "* The second equation says: $x_1 = 2$\n",
    "\n",
    "\n",
    "The problem is also under-determined because the last two equations are not independent. In the particular case as written here the final two equations actually boil down to one equation for two unknowns. Dividing the third equation by 2 and the fourth equation by 3 we get:\n",
    "\n",
    "$x_2 + x_3 = 1$\n",
    "\n",
    "Thus, there are infinitely many solutions for $x_2$ and $x_3$ that can fit the last two equations exactly.  \n",
    "\n",
    "This problem is therefore clearly ***mixed-determined***."
   ]
  },
  {
   "cell_type": "markdown",
   "metadata": {
    "slideshow": {
     "slide_type": "subslide"
    }
   },
   "source": [
    "#### Mixed determined - Example 2 <a class=\"tocSkip\"></a>\n",
    "\n",
    "The following figure illustrates these four problem types for a simple tomography experiment - we want to work out the density of each block from the time it takes a wave to pass through the blocks along different paths. \n",
    "\n",
    "The \"s\" values plotted just indicate that some measurement has been taken, and we want to use this to establish values in the two blocks.\n",
    "\n",
    "\n",
    "<img src=\"./figures/over_under_mixed_determined_example.png\" />\n",
    "<br/><br/>\n",
    "\n",
    "- In the first case we have exactly enough information to solve our inversion problem exactly.\n",
    "\n",
    "\n",
    "- In the second case we can only describe the mean of the parameter values, but without additional information there is an infinite family of possible individual parameter values that agree with our data - we have an under-determined problem.\n",
    "\n",
    "\n",
    "- In the third we are given the parameters in each rectangle and additionally the mean - we have an over-determined problem; we may or may not be able to find a solution that satsifies all observations/equations.\n",
    "\n",
    "\n",
    "- In the fourth we are only told the mean (so are under-determined as far as the individual block values, or their difference, are concerned - so these quantities are under-determined) but we are told that mean value three times (so we are over-determined in terms of the mean - an issue if the three data values are different). We could transform this problem into one for two new parameters - the mean and the difference - where we have three equations for the first parameter and none for the second."
   ]
  },
  {
   "cell_type": "markdown",
   "metadata": {},
   "source": [
    "# Solving Equi-Determined Problems"
   ]
  },
  {
   "cell_type": "markdown",
   "metadata": {
    "slideshow": {
     "slide_type": "slide"
    }
   },
   "source": [
    "## Equi-determined problems - a summary\n",
    "\n",
    "As we already saw in _Computational Mathematics_ for square matrices\n",
    "\n",
    "<img src=\"./latex/matrix-square.png\" />\n",
    "\n",
    "the following properties of a square $n\\times n$ matrix are equivalent:\n",
    "\n",
    "1. $\\det(A)\\ne 0$, i.e. $A$ is non-singular.\n",
    "\n",
    "2. The columns of $A$ are linearly independent.\n",
    "\n",
    "3. The rows of $A$ are linearly independent.\n",
    "\n",
    "4. The columns of $A$ [*span*](https://en.wikipedia.org/wiki/Linear_span) an $n$-dimensional space (this means that we can reach any point in $\\mathbb{R}^n$ through a linear combination of these vectors)\n",
    "\n",
    "5. $A$ is invertible, i.e. there exists a matrix $\\underline{\\mathbf{A}}^{-1}$, the <a class=\"definition\" href=\"#definitions\" id=\"inverseofthematrix\">inverse of the matrix</a>, such that $$\\underline{\\mathbf{A}}^{-1}\\underline{\\mathbf{A}} = \\underline{\\mathbf{A}} \\underline{\\mathbf{A}}^{-1}=\\underline{\\mathbf{I}}.$$\n",
    "\n",
    "6. The matrix system $\\underline{\\mathbf{A}}\\boldsymbol{x}=\\boldsymbol{b}$ has a unique solution for every vector $\\boldsymbol{b}$.\n",
    "\n",
    "We now know that these are also all equivalent (most obviously with 2, 3, and 4) with:\n",
    "\n",
    "7. The matrix is full-rank, i.e. $\\mathrm{rank}(\\underline{\\mathbf A})=n$."
   ]
  },
  {
   "cell_type": "markdown",
   "metadata": {
    "slideshow": {
     "slide_type": "slide"
    }
   },
   "source": [
    "## Some naive ways of solving an equi-determined (square) problem\n",
    "This is an example linear system from *Computational Mathematics*\n",
    "\n",
    "$$\\begin{aligned}\n",
    "  2x + 3y &= 7 \\\\\n",
    "   x - 4y &= 3\n",
    "\\end{aligned} \\iff\n",
    "\\begin{pmatrix}\n",
    "  2 & 3 \\\\ 1  & -4\n",
    "\\end{pmatrix}\n",
    "\\begin{pmatrix}\n",
    "  x \\\\ y\n",
    "\\end{pmatrix} = \n",
    "\\begin{pmatrix}\n",
    "  7 \\\\ 3\n",
    "\\end{pmatrix}$$"
   ]
  },
  {
   "cell_type": "markdown",
   "metadata": {},
   "source": [
    "### Isolation and substitution of variables <a class=\"tocSkip\"></a>\n",
    "As $x$ is already on its own in the second equation we can rearrange and substitute $x=3+4y$ into the first:\n",
    "\n",
    "$$ 2x + 3y = 7 \\quad\\implies\\quad 2(3+4y)+3y=7 \\quad\\implies\\quad  (2\\times 4 + 3)y=7 - 2\\times 3  \\quad\\implies\\quad y = \\frac{1}{11} $$\n",
    "\n",
    "Then substitute this back into one of the equations to find $x$. Easiest option is in the second equation:\n",
    "\n",
    "$$x=3+4y = 3+4\\times \\frac{1}{11} = \\frac{37}{11}$$"
   ]
  },
  {
   "cell_type": "markdown",
   "metadata": {},
   "source": [
    "### Graphical Solution <a class=\"tocSkip\"></a>\n",
    "We can look at all of the solutions to each of the two equations seperately. The space of vectors $\\boldsymbol{x}$ that satisfies one of the equations forms a line and we may find the intersection of the two lines associated with the two equations graphically:"
   ]
  },
  {
   "cell_type": "code",
   "execution_count": 7,
   "metadata": {},
   "outputs": [
    {
     "data": {
      "image/png": "[encoded data removed]",
      "text/plain": [
       "<Figure size 500x500 with 1 Axes>"
      ]
     },
     "metadata": {},
     "output_type": "display_data"
    }
   ],
   "source": [
    "# Space of solutions to explore\n",
    "x = np.linspace(-1,5,100)\n",
    "\n",
    "# First equation\n",
    "y1 = -(2./3.)*x + (7./3.)\n",
    "\n",
    "# Second equation\n",
    "y2 = (1./4.)*x - (3./4.)\n",
    "\n",
    "\n",
    "# Plot the two lines and the solution\n",
    "fig = plt.figure(figsize=(5, 5))\n",
    "ax1 = fig.add_subplot(111)\n",
    "ax1.set_xlabel(\"$x$\", fontsize=14)\n",
    "ax1.set_ylabel(\"$y$\", fontsize=14)\n",
    "ax1.set_title('Two lines', fontsize=14)\n",
    "ax1.grid(True)\n",
    "\n",
    "ax1.plot(x,y1,'b', label='$2x+3y=7$')\n",
    "ax1.plot(x,y2,'r', label='$x-4y=3$')\n",
    "ax1.plot(37./11,1./11, 'ko', label='Our solution')\n",
    "\n",
    "ax1.legend(loc='best', fontsize=14)\n",
    "plt.show()"
   ]
  },
  {
   "cell_type": "markdown",
   "metadata": {},
   "source": [
    "**Note** that this is not true for problems in higher dimensions, $n>2$. As we explained above if the solution space is $n$-dimensional ($n$ columns in the matrix), then each equation adds a new constraint (as long as the equations are independent!). The space of vectors that satisfies just one equation is $n-1$ dimensional. The space that satisfies two linearly independent equations is $n-2$ dimensional, etc.\n",
    "\n",
    "For instance, in 3D with a $3x3$ matrix system, we would get a plane of dimension $n-1=2$ for each of the three equations. In principle we could try to intersect these three planes to find the solution, but that's already a lot less practical. And so you see this method doesn't really work for $n>3$."
   ]
  },
  {
   "cell_type": "markdown",
   "metadata": {},
   "source": [
    "### Using the matrix inverse <a class=\"tocSkip\"></a>\n",
    "\n",
    "As we stated above, if $\\mathbf{A}$ is non singular then $\\underline{\\mathbf{A}}$ is invertible, i.e. there exists a matrix $\\underline{\\mathbf{A}}^{-1}$, such that\n",
    "\n",
    "$$\\underline{\\mathbf{A}}^{-1}\\underline{\\mathbf{A}} = \\underline{\\mathbf{A}} \\underline{\\mathbf{A}}^{-1}=\\underline{\\mathbf{I}}.$$\n",
    "\n",
    "We can of course use this to solve the linear system $\\underline{\\mathbf{A}}\\boldsymbol{x}=\\boldsymbol{b}$ for arbtitrary $\\boldsymbol{b}$ simply by left-multiplying the linear system by $\\underline{\\mathbf{A}}^{-1}$:\n",
    "\n",
    "$$\\underline{\\mathbf{A}}^{-1} \\underline{\\mathbf{A}}\\boldsymbol{x}=\\underline{\\mathbf{A}}^{-1}\\boldsymbol{b}$$\n",
    "\n",
    "which gives\n",
    "\n",
    "$$\\boldsymbol{x}=\\underline{\\mathbf{A}}^{-1}\\boldsymbol{b}$$\n",
    "\n",
    "for\n",
    "$$\n",
    "\\mathbf{A}^{-1} = \\frac{1}{\\det(\\mathbf{A})} \\text{adj}(\\mathbf{A}).\n",
    "$$\n",
    "\n",
    "In the example above the inverse of $\\underline{\\mathbf{A}}$ is given by:\n",
    "\n",
    "$$\n",
    "\\underline{\\mathbf{A}}^{-1} =\n",
    "\\begin{pmatrix} \\frac{4}{11} & \\frac{3}{11} \\\\ \\frac{1}{11} & \\frac{-2}{11} \\end{pmatrix}\n",
    "$$"
   ]
  },
  {
   "cell_type": "markdown",
   "metadata": {},
   "source": [
    "which we can check with the code below:"
   ]
  },
  {
   "cell_type": "code",
   "execution_count": 8,
   "metadata": {},
   "outputs": [
    {
     "name": "stdout",
     "output_type": "stream",
     "text": [
      "[[ 1.000000e+00 -5.551115e-17]\n",
      " [ 0.000000e+00  1.000000e+00]]\n",
      "[[1. 0.]\n",
      " [0. 1.]]\n"
     ]
    }
   ],
   "source": [
    "# our matrix\n",
    "A = np.array([[2, 3], [1, -4]])\n",
    "\n",
    "# I claim this is the inverse to that matrix\n",
    "Ainv = (1./11)*np.array([[4, 3], [1, -2]])\n",
    "\n",
    "# let's check\n",
    "print(A@Ainv)\n",
    "print(Ainv@A)"
   ]
  },
  {
   "cell_type": "markdown",
   "metadata": {},
   "source": [
    "and thus we can find the solution $\\boldsymbol{x}$ with:"
   ]
  },
  {
   "cell_type": "code",
   "execution_count": 9,
   "metadata": {},
   "outputs": [
    {
     "name": "stdout",
     "output_type": "stream",
     "text": [
      "[3.363636 0.090909]\n",
      "[ True  True]\n"
     ]
    }
   ],
   "source": [
    "# RHS vector\n",
    "b = np.array([7,3])\n",
    "x = Ainv@b\n",
    "print(x)\n",
    "print(np.isclose(x, [37./11, 1./11]))"
   ]
  },
  {
   "cell_type": "markdown",
   "metadata": {},
   "source": [
    "When using cofactor expansion for both determinant and adjoint calculation, the computational complexity is  $O(n!) $"
   ]
  },
  {
   "cell_type": "markdown",
   "metadata": {},
   "source": [
    "## Gaussian elimination\n",
    "\n",
    "### Row Operations\n",
    "In our first attempt to solve\n",
    "\n",
    "$$\n",
    "\\begin{aligned}\n",
    "  2x + 3y &= 7 \\\\\n",
    "   x - 4y &= 3 \n",
    "\\end{aligned}\n",
    "   \\quad \\iff \\quad\n",
    "  \\begin{pmatrix}\n",
    "    2 & 3 \\\\\n",
    "    1 & -4  \n",
    "  \\end{pmatrix}\n",
    "  \\begin{pmatrix}\n",
    "    x \\\\\n",
    "    y \n",
    "  \\end{pmatrix}=\n",
    "  \\begin{pmatrix}\n",
    "    7 \\\\\n",
    "    3 \n",
    "  \\end{pmatrix},\n",
    "$$\n",
    "\n",
    "we relied on the fact that $x$ could be easily isolated to $x=3+4y$, and we subsequently substituted it into the first to obtain an equation that contained $y$'s only."
   ]
  },
  {
   "cell_type": "markdown",
   "metadata": {},
   "source": [
    "We could have achieved exactly the same answer if we subtract twice the second equation from the first:\n",
    "\n",
    "$$\\begin{aligned}\n",
    "2x + 3y &= 7 \\\\\n",
    "x - 4y & = 3 & (-2\\cdot) \\\\\n",
    "\\hline\n",
    "(2-2)x + (3-2\\cdot-4)y &= 7 - 2\\cdot 3\n",
    "\\end{aligned}$$\n",
    "\n",
    "which gives $11y=1$, or $y=1/11$.\n",
    "\n",
    "\n",
    "\n",
    "\n",
    "\n"
   ]
  },
  {
   "cell_type": "markdown",
   "metadata": {},
   "source": [
    "We effectively performed what are called <a class=\"definition\" href=\"#definitions\" id=\"rowoperations\">row operations</a> on the matrix and the RHS vector, which are defined as:\n",
    "\n",
    "\n",
    "1. multiply each row by a non-zero scalar\n",
    "\n",
    "\n",
    "2. add multiples of one row to another \n",
    "\n",
    "\n",
    "3. swap rows"
   ]
  },
  {
   "cell_type": "markdown",
   "metadata": {},
   "source": [
    "For the example above, multiplying a row by a scalar or swapping rows would not change the two lines in the grpahical solution and so not change the solution.\n",
    "\n",
    "Adding a multiple of one row to another and replacing one of the two rows with this updated row **will** change one of the lines, **but** the intersection point won't change - convince yourself of this with some additional plotting.\n",
    "\n",
    "This is still true in more dimensions ($n>2$): if we take any two equations (rows) of the entire system and replace one of the two equations with a linear combination of the two, then each vector $\\boldsymbol{x}$ that satisfies the original two equations, also satisfies the modified equations, and vice versa.\n",
    "\n",
    "In other words, we can use row operations to transform the linear system into one that is completely equivalent, i.e. has the same (and no more) solutions."
   ]
  },
  {
   "cell_type": "markdown",
   "metadata": {},
   "source": [
    "### Row Operations on the Augmented System\n",
    "We can perform these operations in a way that is easy to keep track of by forming an <a class=\"definition\" href=\"#definitions\" id=\"augmentedmatrix\">augmented matrix</a> (we add the RHS vector as an additional column). \n",
    "\n",
    "The notation above the arrows should hopefully be clear, it's encoding the operations we are performing on the rows, with '(1)' and '(2)' identifying the first and second row, respectively. '$(1)\\leftarrow (1)-2(2)$' means replace the first row with the first row minus twice the second row - the operation we performed above.\n",
    "\n",
    "\\begin{align*}\n",
    "[A \\, | \\, \\boldsymbol{b} ] = \n",
    "&\\left[\n",
    "  \\begin{array}{cc|c}\n",
    "    2 & 3 & 7 \\\\\n",
    "    1 & -4 & 3\n",
    "  \\end{array}\n",
    "\\right] \\\\\n",
    "\\xrightarrow{(1)\\leftarrow (1)-2(2)}\n",
    "&\\left[\n",
    "  \\begin{array}{cc|c}\n",
    "    0 & 11 & 1 \\\\\n",
    "    1 & -4 & 3\n",
    "  \\end{array}\n",
    "\\right] \\\\\n",
    "\\xrightarrow{(1)\\leftarrow (1)/11}\n",
    "&\\left[\n",
    "  \\begin{array}{cc|c}\n",
    "    0 & 1 & 1/11 \\\\\n",
    "    1 & -4 & 3\n",
    "  \\end{array}\n",
    "\\right]\\\\\n",
    "\\xrightarrow{(2)\\leftarrow (2)+4(1)}\n",
    "&\\left[\n",
    "  \\begin{array}{cc|c}\n",
    "    0 & 1 & 1/11 \\\\\n",
    "    1 & 0 & 3+4/11\n",
    "  \\end{array}\n",
    "\\right] \\\\\n",
    "\\xrightarrow{(1)\\leftrightarrow (2)}\n",
    "&\\left[\n",
    "  \\begin{array}{cc|c}\n",
    "    1 & 0 & 3+4/11 \\\\\n",
    "    0 & 1 & 1/11\n",
    "  \\end{array}\n",
    "\\right]\n",
    "\\end{align*}\n",
    "\n",
    "We indeed end up with the same answer as previously:\n",
    "\n",
    "$$\\boldsymbol{x} =\n",
    "\\begin{pmatrix}\n",
    "3+4/11\\\\\n",
    "1/11\n",
    "\\end{pmatrix}=\n",
    "\\begin{pmatrix}\n",
    "37/11\\\\\n",
    "1/11\n",
    "\\end{pmatrix}$$"
   ]
  },
  {
   "cell_type": "markdown",
   "metadata": {},
   "source": [
    "### Calculating the Inverse Matrix through Row Operations\n",
    "In the process above we have transformed the system\n",
    "$$\\begin{pmatrix}\n",
    "    2 & 3 \\\\\n",
    "    1 & -4  \n",
    "  \\end{pmatrix}\n",
    "  \\begin{pmatrix}\n",
    "    x \\\\\n",
    "    y \n",
    "  \\end{pmatrix}=\n",
    "  \\begin{pmatrix}\n",
    "    7 \\\\\n",
    "    3 \n",
    "  \\end{pmatrix}\n",
    "$$\n",
    "into\n",
    "$$\\begin{pmatrix}\n",
    "    1 & 0 \\\\\n",
    "    0 & 1  \n",
    "  \\end{pmatrix}\n",
    "  \\begin{pmatrix}\n",
    "    x \\\\\n",
    "    y \n",
    "  \\end{pmatrix}=\n",
    "  \\begin{pmatrix}\n",
    "    37/11 \\\\\n",
    "    1/11\n",
    "  \\end{pmatrix}\n",
    "$$\n",
    "\n",
    "A key requirement to obtained the correct answer is that we have to apply the same row operations on both the left-hand and the right-hand side of the equation."
   ]
  },
  {
   "cell_type": "markdown",
   "metadata": {},
   "source": [
    "Let's write our original linear system in a slightly different way:\n",
    "$$\\begin{pmatrix}\n",
    "    2 & 3 \\\\\n",
    "    1 & -4  \n",
    "  \\end{pmatrix}\n",
    "  \\begin{pmatrix}\n",
    "    x \\\\\n",
    "    y \n",
    "  \\end{pmatrix}=\n",
    "  \\begin{pmatrix}\n",
    "    1 & 0 \\\\\n",
    "    0 & 1\n",
    "  \\end{pmatrix}\n",
    "  \\begin{pmatrix}\n",
    "    7 \\\\\n",
    "    3 \n",
    "  \\end{pmatrix}.\n",
    "$$\n",
    "In other words, we have inserted the identity matrix on the right-hand side. If we now apply the same Gaussian Elimination process as before, we now have to apply the row operations on the matrix on the right-hand side (which starts as the identiy matrix) as well! Note however that in this case we no longer have to do this for the $(7, 3)$ vector - applying the row operations on the matrix on the right-hand side automatically means that the product of that changing matrix with $(7,3)$ will change as before."
   ]
  },
  {
   "cell_type": "markdown",
   "metadata": {},
   "source": [
    "If we go through the same process, which on the left-hand side step-by-step turns the original matrix into the identity matrix, then on the right-hand side we obtain a transformed matrix $\\underline{\\mathbf B}$\n",
    "\n",
    "$$\n",
    "\\begin{pmatrix}\n",
    "    1 & 0 \\\\\n",
    "    0 & 1\n",
    "  \\end{pmatrix}\n",
    "  \\begin{pmatrix}\n",
    "    x \\\\\n",
    "    y \n",
    "  \\end{pmatrix}=\n",
    "  \\underline{\\mathbf B}\n",
    "  \\begin{pmatrix}\n",
    "    7 \\\\\n",
    "    3 \n",
    "  \\end{pmatrix}\n",
    "$$\n",
    "\n",
    "Note however that the operations we perform do not actually depend on the original right-hand side vector $(7,3)$ - which means we always end up with the same matrix $\\mathbf B$, and thus this matrix which maps any right-hand side vector to the solution must in fact be the inverse matrix $\\underline{\\mathbf{A}}^{-1}$."
   ]
  },
  {
   "cell_type": "markdown",
   "metadata": {},
   "source": [
    "Thus we see that we can obtain the inverse of $\\underline{\\mathbf{A}}$ by starting with an augmented matrix in which, instead of the right-hand side vector $\\boldsymbol{b}$, we insert all columns of the identity matrix, and apply the exact same operations as before:\n",
    "\n",
    "\\begin{align*}\n",
    "[A \\, | \\, \\, I] = \n",
    "&\\left[\n",
    "  \\begin{array}{cc|cc}\n",
    "    2 & 3 &  1 & 0 \\\\\n",
    "    1 & -4 & 0 & 1  \n",
    "  \\end{array}\n",
    "\\right] \\\\\n",
    "\\xrightarrow{(1)\\leftarrow (1)-2(2)}\n",
    "& \\left[\n",
    "  \\begin{array}{cc|cc}\n",
    "    0 & 11 & 1 & -2 \\\\\n",
    "    1 & -4 & 0 & 1  \n",
    "  \\end{array}\n",
    "\\right] \\\\\n",
    "\\xrightarrow{(1)\\leftarrow (1)/11}\n",
    "& \\left[\n",
    "  \\begin{array}{cc|cc}\n",
    "    0 & 1 & 1/11 & -2/11 \\\\\n",
    "    1 & -4 & 0 & 1  \n",
    "  \\end{array}\n",
    "\\right]\\\\\n",
    "\\xrightarrow{(2)\\leftarrow (2)+4(1)}\n",
    "&\\left[\n",
    "  \\begin{array}{cc|cc}\n",
    "    0 & 1 & 1/11 & -2/11 \\\\\n",
    "    1 & 0 & 4/11 & 1-8/11  \n",
    "  \\end{array}\n",
    "\\right] \\\\\n",
    "\\xrightarrow{(1)\\leftrightarrow (2)}\n",
    "&\\left[\n",
    "  \\begin{array}{cc|cc}\n",
    "    1 & 0 & 4/11 & 1-8/11  \\\\\n",
    "    0 & 1 & 1/11 & -2/11 \n",
    "  \\end{array}\n",
    "\\right] = [I \\, | \\, \\, A^{-1}]\n",
    "\\end{align*}"
   ]
  },
  {
   "cell_type": "markdown",
   "metadata": {},
   "source": [
    "which indeed gives the same inverse as before:\n",
    "\n",
    "$$A^{-1} = \n",
    "\\begin{pmatrix}\n",
    "    4/11 & 1-8/11  \\\\\n",
    "    1/11 & -2/11 \n",
    "\\end{pmatrix}= \n",
    "\\begin{pmatrix}\n",
    "    4/11 & 3/11  \\\\\n",
    "    1/11 & -2/11 \n",
    "\\end{pmatrix}.$$"
   ]
  },
  {
   "cell_type": "markdown",
   "metadata": {},
   "source": [
    "### Gaussian Elimination\n",
    "Although the example above shows us how we can solve linear systems, and calculate the inverse of a matrix through row operations, we haven't really discussed how we decide which operations to perform and in which order. To obtain the solution vector on the right-hand side (or the inverse matrix), we need to end up with the identity matrix on the left. A natural, systematic way to do this is to first ensure we get zeros everywhere below the diagonal.\n",
    "\n",
    "This can be achieved by the following process:\n",
    "* Take the diagonal entry of the first row, i.e. $a_{11}$ and eliminate the entry below it, $a_{21}$ by subtracting the first row multiplied by $a_{21}/a_{11}$ from the second row:\n",
    "$$\n",
    "\\begin{pmatrix}\n",
    "  a_{11} & a_{12} & a_{13} & \\dots \\\\\n",
    "  a_{21} & a_{22} & a_{23} & \\dots \\\\\n",
    "  a_{31} & a_{32} & a_{33} & \\dots \\\\\n",
    "  \\vdots & \\vdots & \\vdots & \\ddots\n",
    "  \\end{pmatrix}\n",
    "\\rightarrow\n",
    "\\begin{pmatrix}\n",
    "  a_{11} & a_{12} & a_{13} & \\dots \\\\\n",
    "  0 & a_{22}-\\frac{a_{21}}{a_{11}}a_{12} & a_{23}-\\frac{a_{21}}{a_{11}}a_{13} & \\dots \\\\\n",
    "  a_{31} & a_{32} & a_{33} & \\dots \\\\\n",
    "  \\vdots & \\vdots & \\vdots & \\ddots\n",
    "  \\end{pmatrix}\n",
    "$$\n",
    "Note that the first entry in row 2 becomes $a_{21}-\\frac{a_{21}}{a_{11}}a_{11}=0$ indeed.\n",
    "\n",
    "* This process can be repeated to eliminate the $a_{31}$ entry: we subtract the first row multiplied by $a_{31}/a_{11}$ from the third row.\n",
    "\n",
    "* The same can be done for all entries in the first column, so that we end up with only zeros in that column below the diagonal entry $a_{11}$.\n",
    "\n",
    "* We can now repeat the same thing for all entries *below* the $a_{22}$ diagonal entry: we subtract multiples of the second row from the rows below such that all entries in the column below $a_{22}$ become zero.\n",
    "\n",
    "* Finally, we can repeat this process zeroing all entries below each of the subsequent diagonal entries.\n",
    "\n",
    "This process is referred to as <a class=\"definition\" href=\"#definitions\" id=\"GaussianElimination\">Gaussian Elimination</a> and has order $O(n^3)$"
   ]
  },
  {
   "cell_type": "markdown",
   "metadata": {},
   "source": [
    "### Back Substitution\n",
    "So far we have transformed the system of equations into the following form:\n",
    "\n",
    "$$\n",
    "\\begin{pmatrix}\n",
    "  \\hat{a}_{11} & \\hat{a}_{12} & \\hat{a}_{13} & \\dots & \\hat{a}_{1,n-1} & \\hat{a}_{1n} \\\\\n",
    "  0 & \\hat{a}_{22} & \\hat{a}_{23} & \\dots & \\hat{a}_{2,n-1} & \\hat{a}_{2n} \\\\\n",
    "  0 & 0 & \\hat{a}_{33} & \\dots & \\hat{a}_{3,n-1} &\\hat{a}_{3n} \\\\\n",
    "  \\vdots & \\vdots & \\vdots & \\ddots & \\vdots &\\vdots \\\\\n",
    "  0 & 0 & 0 & 0 & \\hat{a}_{n-1,n-1} & \\hat{a}_{n-1, n} \\\\\n",
    "  0 & 0 & 0 & 0 & 0 & \\hat{a}_{nn}\n",
    "  \\end{pmatrix}\n",
    "  \\begin{pmatrix}\n",
    "    x_1 \\\\ x_2 \\\\ x_3 \\\\ \\vdots \\\\ x_{n-1} \\\\ x_n\n",
    "  \\end{pmatrix}\n",
    "  =\n",
    "  \\begin{pmatrix}\n",
    "    \\hat{b}_1 \\\\ \\hat{b}_2 \\\\ \\hat{b}_3 \\\\ \\vdots \\\\ \\hat{b}_{n-1} \\\\ \\hat{b}_n\n",
    "  \\end{pmatrix},\n",
    "$$\n",
    "\n",
    "where the $\\hat{a}_{ij}$ and $\\hat{b}_j$ indicate the remaining nonzero entries which have changed from the original system. A matrix that only has nonzero entries on and above the diagonal is called <a class=\"definition\" href=\"#definitions\" id=\"upperdiagonal\">upper diagonal</a>."
   ]
  },
  {
   "cell_type": "markdown",
   "metadata": {},
   "source": [
    "Now you might wonder why we didn't just repeat the same process as above to also eliminate the entries *above* the diagonal. The reason is, that a linear system of equations based on an upper diagonal matrix can already be solved easily and efficiently by solving the equations one by one in reverse order:\n",
    "\n",
    "* The last equation of an upper diagonal $n\\times n$ matrix system is simply:\n",
    "  $$\\hat{a}_{nn} x_n = \\hat{b}_n$$\n",
    "  which we can immediately solve for $x_n$:\n",
    "  $$x_n=\\frac{\\hat{b}_n}{\\hat{a}_{nn}}$$\n",
    "* Now if we continue with the penultimate equation:\n",
    "  $$\\hat{a}_{n-1,n-1} x_{n-1} + \\hat{a}_{n-1,n} x_n = \\hat{b}_{n-1},$$\n",
    "  we already know what $x_n$ is, so that we can immediately work out what $x_{n-1}$ is as well:\n",
    "  $$x_{n-1} = \\frac{\\hat{b}_{n-1} -\\hat{a}_{n-1,n} x_n}{\\hat{a}_{n-1,n-1}}$$\n",
    "* Similarly for all subsequent equations above, if we go through in reverse order and arrive at row $i$ we already know all $x_j$ for $j>i$. Because of the upper diagonal form, the only entry of $x$ used in row $i$ that we don't know yet is $x_i$ associated with the diagonal,\n",
    "$$\\hat{a}_{i,i} x_{i} + \\hat{a}_{i,i+1} x_{i+1} + \\dots \\hat{a}_{i,n} x_n  = \\hat{b}_i,$$\n",
    "so  we can directly calculate it:\n",
    "  $$x_i = \\frac{\\hat{b}_i - \\sum_{j>i}\\hat{a}_{i,j} x_j}{\\hat{a}_{i,i}}$$\n",
    "  \n",
    "This process of solving an upper-diagonal linear system is called <a class=\"defition\" id=\"backsubtitution\" href=\"#definitions\">back substitution</a>.\n",
    "\n",
    "As you can imagine if we have a matrix that is <a class=\"definition\" href=\"#definitions\" id=\"lowerdiagonal\">lower diagonal</a>, i.e. all its nonzero entries are either on or *below* the diagonal, then we can solve the system easily in a similar way by now instead going *forward* through the equations: with the first equation we can solve $x_1$, in the second equation we use the value of $x_1$ to solve $x_2$, etc. This is called <a class=\"definition\" href=\"#definitions\" id=\"forwardsubstitution\">forward substitution</a> and will be useful later on."
   ]
  },
  {
   "cell_type": "markdown",
   "metadata": {},
   "source": [
    "### Pivotting\n",
    "You have seen that in Gaussian elimination the diagonal entries $a_{ii}$ play a central (pivotal!) role. We refer to these diagonal entries in this process as <a class=\"definition\" href=\"#definitions\" id=\"pivots\">pivots</a>. We have however overlooked one important issue: what happens if some pivot is zero? The process above required us to divide by the pivot value which clearly isn't possible if the pivot is zero.\n",
    "\n",
    "For example, say after some Gaussian elimination steps, we have managed to zero the first column below $a_{11}$ and ended up with the following augmented matrix:\n",
    "\n",
    "$$\n",
    "\\begin{array}{cccc|c}\n",
    "1 & 2 & 3 & 1 & 2 \\\\\n",
    "0 & 0 & 1 & 2 & 3 \\\\\n",
    "0 & 4 & 3 & 1 & 2 \\\\\n",
    "0 & 1 & 2 & 3 & 1\n",
    "\\end{array}\n",
    "$$\n",
    "\n",
    "We can't use the pivot in the second row to eliminate the entries in the column below it. However, if we remember that one of the allowed *row operations* is the *swapping* of two rows, we can simply swap the second and third row:\n",
    "\n",
    "$$\n",
    "\\begin{array}{cccc|c}\n",
    "1 & 2 & 3 & 1 & 2 \\\\\n",
    "0 & 4 & 3 & 1 & 2 \\\\\n",
    "0 & 0 & 1 & 2 & 3 \\\\\n",
    "0 & 1 & 2 & 3 & 1\n",
    "\\end{array}\n",
    "$$\n",
    "\n",
    "Now we can proceed as before. We don't need to eliminate the $a_{32}$ entry in the third row, because it is already zero, but we can eliminate the $a_{42}$ entry by subtracting the second row multiplied by $1/4$ from the last row."
   ]
  },
  {
   "cell_type": "markdown",
   "metadata": {},
   "source": [
    "Let us consider a different example:\n",
    "$$\n",
    "\\epsilon x_1 + x_2 = 1 \\\\\n",
    "x_1 + x_2 = 2\n",
    "$$\n",
    "We can write it in augmented matrix form:\n",
    "$$\n",
    "\\begin{array}{cc|c}\n",
    "  \\epsilon & 1 & 1 \\\\\n",
    "  1 & 1 & 2\n",
    "\\end{array}\n",
    "$$\n",
    "which we can transform in upper triangular form with Gaussian Elimination in one step:\n",
    "$$\n",
    "\\begin{array}{cc|c}\n",
    "  \\epsilon & 1 & 1 \\\\\n",
    "  0 & 1-\\frac{1}{\\epsilon} & 2-\\frac{1}{\\epsilon}\n",
    "\\end{array}\n",
    "$$\n",
    "The solution then follows from back substitution:\n",
    "$$\n",
    "  x_2 = \\frac{2-\\frac{1}{\\epsilon}}{1-\\frac{1}{\\epsilon}} \\\\\n",
    "  x_1 = \\frac{1 - x_2}\\epsilon\n",
    "$$\n",
    "which have implemented below:"
   ]
  },
  {
   "cell_type": "code",
   "execution_count": 11,
   "metadata": {},
   "outputs": [
    {
     "name": "stdout",
     "output_type": "stream",
     "text": [
      "[0. 1.]\n",
      "Solution is incorrect!\n"
     ]
    }
   ],
   "source": [
    "eps = 1e-20\n",
    "A = np.array([[eps, 1],[1,1]])\n",
    "b = np.array([1,2])\n",
    "x2 = (2-1/eps)/(1-1/eps)\n",
    "x1 = (1-x2)/eps\n",
    "x = np.array([x1,x2])\n",
    "print(x)\n",
    "# check that the LHS Ax is the same as the RHS b\n",
    "if not np.allclose(A@x, b):\n",
    "    print(\"Solution is incorrect!\")\n"
   ]
  },
  {
   "cell_type": "markdown",
   "metadata": {},
   "source": [
    "So far so good, but now try what happens if we change $\\epsilon=1^{-20}$ (i.e. `eps=1e-20`).\n",
    "It seems the for small values of $\\epsilon$ the algorithm no longer produces the correct answer. The reason is numerical round off: for small $\\epsilon$, $1/\\epsilon$ is much larger than 1 and also much larger than 2. Therefore in the computation of $x_2$ for small enough $\\epsilon$ we get\n",
    "$$\n",
    "x_2 = \\frac{2-\\frac{1}{\\epsilon}}{1-\\frac{1}{\\epsilon}} \\approx \\frac{-\\frac{1}{\\epsilon}}{-\\frac{1}{\\epsilon}} = 1\n",
    "$$\n",
    "and therefore $x_1=(1-x_2)/\\epsilon=0$.\n",
    "\n",
    "A more careful analysis however tell us (don't worry about this derivation!):\n",
    "$$\n",
    "x_2 = \\frac{2-\\frac{1}{\\epsilon}}{1-\\frac{1}{\\epsilon}}\n",
    "= \\frac{1+(1-\\frac{1}{\\epsilon})}{1-\\frac{1}{\\epsilon}}\n",
    "= \\frac{1}{1-\\frac{1}{\\epsilon}} + 1\n",
    "= 1 + \\frac{\\epsilon}{\\epsilon-1}\n",
    "= 1 - \\frac{\\epsilon}{1-\\epsilon} \\\\\n",
    "x_1 = \\frac{1 - x_2}\\epsilon \n",
    "= \\frac{\\epsilon}{\\left(1-\\epsilon\\right)\\epsilon}\n",
    "= \\frac{1}{1-\\epsilon} \n",
    "= \\frac{1-\\epsilon+\\epsilon}{1-\\epsilon}\n",
    "= 1 + \\frac{\\epsilon}{1-\\epsilon} \n",
    "$$\n",
    "Using $\\epsilon/(1-\\epsilon)\\approx \\epsilon$ we thus get a much more accurate approximation:\n",
    "$$\n",
    "  x_2 \\approx 1-\\epsilon,\\\\\n",
    "  x_1 \\approx 1+\\epsilon\n",
    "$$"
   ]
  },
  {
   "cell_type": "code",
   "execution_count": 12,
   "metadata": {},
   "outputs": [
    {
     "name": "stdout",
     "output_type": "stream",
     "text": [
      "[1. 1.]\n"
     ]
    }
   ],
   "source": [
    "eps = 1e-20\n",
    "A = np.array([[eps, 1],[1,1]])\n",
    "b = np.array([1,2])\n",
    "# exact formula from the \"more careful analysis\" above\n",
    "x2 = 1 - eps/(1-eps)\n",
    "x1 = 1 + eps/(1-eps)\n",
    "x = np.array([x1,x2])\n",
    "print(x)\n",
    "# check that the LHS Ax is the same as the RHS b\n",
    "if not np.allclose(A@x, b):\n",
    "    print(\"Solution is incorrect!\")"
   ]
  },
  {
   "cell_type": "markdown",
   "metadata": {},
   "source": [
    "We see that due to numerical round off we have to be very careful about the order in which we perform operations: two algorithms that are mathematically exactly equivalent do not necessarily give the same answer when implemented numerically. Generally speaking we want to avoid adding very large numbers to small ones - which is exactly what we are doing wrong when we are using a pivot that is a small number.\n",
    "\n",
    "We can avoid this situation in exactly the same way as we did when encountering zero pivots: we simply swap the row with the small pivot with a row below that has a larger value in that column. Note that in the example above we started off with a small value on the diagonal of the original matrix. In practice you will see that such small values can easily arise during the Gaussian elimination process, even if no small values were present in the original matrix. This means we can't solve this problem by simply filtering out small values in the original matrix and replace them by zero.\n",
    "\n",
    "Rather than just swapping with any row that has a reasonably large value in the column below the small pivot, it is in fact better (in order to minimize the amount of round off error) to  always swap with the row that has largest absolute value in the column below. Thus we modify the Gaussian elimination procedure such that when we start eliminating column $i$ below a diagonal entry $a_{ii}$, we consider any entry in that column **on and below** the diagonal and pick the largest (in absolute value) as our pivot by swapping that row with row $i$ that holds the diagonal entry of that column.\n",
    "\n",
    "In other words, even if the $a_{ii}$ is already reasonably large, we search in the column below if we can find an even larger value to use as the pivot. This addition to Gaussian Elimination is called <a class=\"definition\" href=\"#definitions\" id=\"partialpivotting\">partial pivotting</a><a href=\"#footnote1\">\\*</a>\n",
    "\n",
    "<a id=\"footnote1\"><font color=\"black\" size=\"2\">\\* The reason it's called *partial* is because it is in fact also possible to introduce column swaps in the elimination process, it just requires a bit of extra administration. If we use column swaps, we can also look for larger pivot values in the row to the right of the diagonal entry, and this would be called **full pivotting**</font></a>"
   ]
  },
  {
   "cell_type": "markdown",
   "metadata": {},
   "source": [
    "## LU Decomposition\n",
    "In our first example we saw that we can also use row operations to calculate the entire inverse matrix, rather than just solving for a single right-hand side $\\boldsymbol{b}$. We did this by inserting the identity matrix on the right-hand side\n",
    "\n",
    "$$\n",
    "\\begin{pmatrix}\n",
    "  a_{11} & a_{12} & a_{13} & \\dots \\\\\n",
    "  a_{21} & a_{22} & a_{23} & \\dots \\\\\n",
    "  a_{31} & a_{32} & a_{33} & \\dots \\\\\n",
    "  \\vdots & \\vdots & \\vdots & \\ddots\n",
    "\\end{pmatrix}\n",
    "  \\begin{pmatrix}\n",
    "    x_1 \\\\ x_2 \\\\ x_3 \\\\ \\vdots\n",
    "  \\end{pmatrix}\n",
    "  =\n",
    "  \\begin{pmatrix}\n",
    "  1 & 0 & 0 & \\dots \\\\\n",
    "  0 & 1 & 0 & \\dots \\\\\n",
    "  0 & 0 & 1 & \\dots \\\\\n",
    "  \\vdots & \\vdots & \\vdots & \\ddots\n",
    "  \\end{pmatrix}\n",
    "  \\begin{pmatrix}\n",
    "    b_1 \\\\ b_2 \\\\ b_3 \\\\ \\vdots\n",
    "  \\end{pmatrix},\n",
    "$$\n",
    "\n",
    "and applying the same row operations on the identity matrix instead of on $\\boldsymbol{b}$.\n",
    "\n",
    "Now what happens if we follow the Gaussian Elimination procedure such that the matrix on the left turns into an upper diagonal matrix? It turns out that applying the same row operations on the matrix on the right, which starts out as the identity matrix, turns it into a <a class=\"definition\" href=\"#definitions\" id=\"lowerdiagonalmatrix\">lower diagonal matrix</a>, i.e. a matrix whose only nonzero entries are on or below the diagonal\n",
    "\n",
    "$$\n",
    "\\begin{pmatrix}\n",
    "  U_11 & U_{12} & U_{13} & \\dots \\\\\n",
    "  0 & U_{22} & U_{23} & \\dots \\\\\n",
    "  0 & 0 & U_{33} & \\dots \\\\\n",
    "  \\vdots & \\vdots & \\vdots & \\ddots\n",
    "  \\end{pmatrix}\n",
    "  \\begin{pmatrix}\n",
    "    x_1 \\\\ x_2 \\\\ x_3 \\\\ \\vdots\n",
    "  \\end{pmatrix}\n",
    "  =\n",
    "  \\begin{pmatrix}\n",
    "  V_{11} & 0 & 0 & \\dots \\\\\n",
    "  V_{21} & V_{22} & 0 & \\dots \\\\\n",
    "  V_{31} & V_{32} & V_{33} & \\dots \\\\\n",
    "  \\vdots & \\vdots & \\vdots & \\ddots\n",
    "  \\end{pmatrix}\n",
    "  \\begin{pmatrix}\n",
    "    b_1 \\\\ b_2 \\\\ b_3 \\\\ \\vdots\n",
    "  \\end{pmatrix},\n",
    "$$\n",
    "\n",
    "meaning that the systems \n",
    "$$\n",
    "  \\mathbf{\\underline{A}}\\boldsymbol{x} = \\boldsymbol{b}\n",
    "$$\n",
    "and \n",
    "$$\n",
    "  \\mathbf{\\underline{U}}\\boldsymbol{x} = \\mathbf{\\underline{V}}\\boldsymbol{b}\n",
    "$$\n",
    "have identical solutions."
   ]
  },
  {
   "cell_type": "markdown",
   "metadata": {},
   "source": [
    "The inverse of a lower diagonal matrix is also a lower diagonal matrix and is relatively easy to calculate: we can linearly transform $[V \\, | \\, \\, I]$ into $[I \\, | \\, \\, V^{-1}]$ through forward substitution.\n",
    "\n",
    "\n",
    "The inverse of the lower diagonal matrix on the right, can in fact be derived step-by-step if instead of the row operations we apply similar column operations with the inverse of the multipliers that we use in the row operations. We won't go into details here but the end result is that we can obtain a matrix $\\underline{\\mathbf{L}}$ that is the inverse of the matrix $\\underline{\\mathbf{V}}$ on the right in the equation above. Thus we can turn this equation\n",
    "$$\n",
    "  \\mathbf{\\underline{U}}\\boldsymbol{x} = \\mathbf{\\underline{V}}\\boldsymbol{b}\n",
    "$$\n",
    "into\n",
    "$$\n",
    "  \\mathbf{\\underline{L}}\\mathbf{\\underline{U}}\\boldsymbol{x} = \\mathbf{\\underline{L}}\\mathbf{\\underline{V}}\\boldsymbol{b} = \\boldsymbol{b}\n",
    "$$\n",
    "\n",
    "This resulting matrices $\\mathbf{\\underline{L}}$ and $\\mathbf{\\underline{U}}$ are again independent of the right-hand side $\\boldsymbol{b}$. Therefore, since the system of equations is still equivalent to the original system $\\underline{\\mathbf{A}}\\boldsymbol{x}=\\boldsymbol{b}$, it has to be that in fact\n",
    "$$\n",
    "  \\underline{\\mathbf{A}} = \\mathbf{\\underline{L}}\\mathbf{\\underline{U}},\n",
    "$$\n",
    "in other words we have managed to decompose the matrix $\\underline{\\mathbf{A}}$ into a product of a lower diagonal and an upper diagonal matrix, a so called <a class=\"definition\" href=\"#definitions\" id=\"LUdecomposition\">LU-decomposition</a>."
   ]
  },
  {
   "cell_type": "markdown",
   "metadata": {},
   "source": [
    "If we want to include partial pivotting then we need an additional matrix $\\underline{\\mathbf{P}}$, the permutation matrix that encodes the row swaps needed for the pivotting\n",
    "\n",
    "$$\n",
    "\\underline{\\mathbf{A}} = \\underline{\\mathbf{P}}\\mathbf{\\underline{L}}\\mathbf{\\underline{U}},\n",
    "$$\n",
    "\n",
    "and is derived by swapping rows of the identity matrix. For example, a permutation matrix that swaps rows 2 and 3 of a 3x3 matrix is given by:\n",
    "\n",
    "$$\n",
    "\\underline{\\mathbf{P}} =\n",
    "\\begin{pmatrix}\n",
    "1 & 0 & 0 \\\\\n",
    "0 & 0 & 1 \\\\\n",
    "0 & 1 & 0\n",
    "\\end{pmatrix}.\n",
    "$$"
   ]
  },
  {
   "cell_type": "code",
   "execution_count": 128,
   "metadata": {},
   "outputs": [
    {
     "name": "stdout",
     "output_type": "stream",
     "text": [
      "Original matrix A:\n",
      " [[1 2 3]\n",
      " [4 5 6]\n",
      " [7 8 9]]\n",
      "Permuted matrix P@A:\n",
      " [[1 2 3]\n",
      " [7 8 9]\n",
      " [4 5 6]]\n",
      "Matmult of P and its transpose P.T @ P:\n",
      " [[1 0 0]\n",
      " [0 1 0]\n",
      " [0 0 1]]\n"
     ]
    }
   ],
   "source": [
    "P = np.array([[1, 0, 0], [0, 0, 1], [0, 1, 0]])\n",
    "A = np.array([[1, 2, 3], [4, 5, 6], [7, 8, 9]])\n",
    "print(\"Original matrix A:\\n\", A)\n",
    "print(\"Permuted matrix P@A:\\n\", P@A)\n",
    "print(\"Matmult of P and its transpose P.T @ P:\\n\", P.T @ P)"
   ]
  },
  {
   "cell_type": "markdown",
   "metadata": {},
   "source": [
    "equivalently, $\\underline{\\mathbf{P}}^T$ applies the same permutation to the columns."
   ]
  },
  {
   "cell_type": "markdown",
   "metadata": {},
   "source": [
    "The inverse of the of the permutation matrix is given by its transpose because they satisfy $\\underline{\\mathbf{P}}^T \\underline{\\mathbf{P}} = \\underline{\\mathbf{I}}$. Thus if we want to solve:\n",
    "\n",
    "$$\n",
    "  \\underline{\\mathbf A}\\boldsymbol{x} = \\underline{\\mathbf P}\\underline{\\mathbf L}\\underline{\\mathbf U}\\boldsymbol{x}=\\boldsymbol{b}\n",
    "$$\n",
    "\n",
    "we get\n",
    "$$\n",
    "  \\underline{\\mathbf L}\\underline{\\mathbf U}\\boldsymbol{x}=\\underline{\\mathbf P}^T\\boldsymbol{b}\n",
    "$$\n",
    "\n",
    "Now if we define a vector $\\boldsymbol{y}=\\underline{\\mathbf U}\\boldsymbol{x}$, then we can first solve\n",
    "$$\n",
    " \\underline{\\mathbf L}\\boldsymbol{y} = \\underline{\\mathbf P}^T\\boldsymbol{b}\n",
    "$$\n",
    "for $\\boldsymbol{y}$ which is easily done by **forward substitution**. Then by definition\n",
    "$$\n",
    "\\underline{\\mathbf U}\\boldsymbol{x} = \\boldsymbol{y},\n",
    "$$\n",
    "which we can now solve for $\\boldsymbol{x}$ through **backward substitution**.\n",
    "\n",
    "Thus we see that once we have the LU decomposition of $\\underline{\\mathbf A}$ we can very cheaply solve $\\underline{\\mathbf A}\\boldsymbol{x}=\\boldsymbol{b}$ in a two-stage process:\n",
    "\n",
    "1. Solve $\\underline{\\mathbf L}\\boldsymbol{y} = \\underline{\\mathbf P}^T\\boldsymbol{b}$ for $\\boldsymbol{y}$ through forward substitution\n",
    "\n",
    "2. Solve $\\underline{\\mathbf U}\\boldsymbol{x} = \\boldsymbol{y}$ for $\\boldsymbol{x}$ through backward substitution\n",
    "\n",
    "Computing the LU decomposition itself is the most expensive part but usually cheaper than calculating the inverse of the matrix $\\underline{\\mathbf A}$ explicitly.\n",
    "\n",
    "As we will see later in this module this is in particularly true for sparse matrices with a large number of nonzero entries which are very common in computational science and engineering. Once we have obtained the LU decomposition, the two-stage solution process is never much more expensive than multiplying with an explicit inverse matrix, and again much cheaper for sparse matrices. In practice, for large problems we therefore never construct the explicit inverse matrix, it's almost always preferable to follow a decomposition approach.\n",
    "\n",
    "The decomposition relies on the Gaussian elimination method we saw previously, and is bound by the sample complexity $O(n^3)$. So why LU?\n",
    "* Each time you solve a new system  $\\mathbf{A} \\mathbf{x} = \\mathbf{b}$ through Gaussian Elimination, you need to perform the entire elimination process from scratch.\n",
    "* Once  $\\mathbf{A}$  is decomposed into  $\\mathbf{L}$  and  $\\mathbf{U}$ , solving for multiple right-hand sides  $\\mathbf{b}_1, \\mathbf{b}_2, \\dots$  only requires two triangular solves for each  $\\mathbf{b}$ , with a complexity of  $O(n^2)$  per solve. This is advantageous when the same $\\mathbf{A}$ is used to solve multiple systems.\n",
    "* In addition, partial pivoting can be more easily incorporated in the LU decomposition through the permutation matrix $\\mathbf{P}$, whereas in Gaussian elimination partial pivotting introduces extra computational tracking.\n",
    "* Finally, the LU decomposition can also be used as a method to **calculate the determinant**. The determinant of a product of matrices is the product of its determinants, so:\n",
    "\n",
    "$$\\det(\\underline{\\mathbf A}) = \\det(\\underline{\\mathbf P}) \\det(\\underline{\\mathbf L}) \\det(\\underline{\\mathbf U})$$\n",
    "\n",
    "* The determinant of the permutation matrix is easy: it's either +1 or -1 depending on the number of row swaps: -1 if odd, and +1 if the number is even. The determinant of lower or upper diagonal matrices is also easy: it's simply the product of its diagonal entries.\n",
    "\n",
    "Methods, such as the LU decomposition approach, in which we directly manipulate the equations are referred to as <a class=\"defition\">direct methods</a>. Another class of solution methods for linear systems are so called <a class=\"definition\" href=\"#definitions\" id=\"iterativemethods\">iterative methods</a> in which an initial guess vector is iteratively improved upon to (hopefully) converge to the solution of the system. Examples, you may have seen previously - in other modules, or previouses courses - are Jacobi or Gauss-Seidel iterations or the Conjugate Gradient method. We will come back to these methods ...when?"
   ]
  },
  {
   "cell_type": "markdown",
   "metadata": {},
   "source": [
    "## Singular Matrices\n",
    "So far we have assumed that the matrix is non-singular, which as we know from above, means the matrix has an inverse, and there exists a unique solution for each right-hand side. To see what happens if the matrix is singular, let us look at the following example. Suppose in the Gaussian eliminations process we have already eliminated the below-diagonal entries in column one and two. We want to continue eliminating in column 3, but here both the pivot and all entries below it happen to be zero already:\n",
    "\n",
    "$$\n",
    "\\begin{pmatrix}\n",
    "  1 & \\tfrac 12 & 0 & 3 & 5 \\\\\n",
    "  0 & 5 & 10 & 1 & 1 \\\\\n",
    "  0 & 0 & 0 & \\bf 4 & -2 \\\\\n",
    "  0 & 0 & 0 & 2 & 7 \\\\\n",
    "  0 & 0 & 0 & 2 & 3 \n",
    "\\end{pmatrix}\n",
    "$$\n",
    "\n",
    "We can now immediately move on to the next column and use the $\\bf 4$ as our next pivot, to zero the entries below it (subtracting $\\tfrac 12$ times the third row from both the fourth and fifth row:\n",
    "\n",
    "$$\n",
    "\\begin{pmatrix}\n",
    "  1 & \\tfrac 12 & 0 & 3 & 5 \\\\\n",
    "  0 & 5 & 10 & 1 & 1 \\\\\n",
    "  0 & 0 & 0 & 4 & -2 \\\\\n",
    "  0 & 0 & 0 & 0 & \\bf 8 \\\\\n",
    "  0 & 0 & 0 & 0 & 4 \n",
    "\\end{pmatrix}\n",
    "$$\n",
    "\n",
    "Finally we arrive at the right-most column, but because we have skipped one column, we can now use the $\\bf 8$ in the fourth row, to entirely zero the last row:\n",
    "\n",
    "$$\n",
    "\\begin{pmatrix}\n",
    "  1 & \\tfrac 12 & 0 & 3 & 5 \\\\\n",
    "  0 & 5 & 10 & 1 & 1 \\\\\n",
    "  0 & 0 & 0 & 4 & -2 \\\\\n",
    "  0 & 0 & 0 & 0 & 8 \\\\\n",
    "  0 & 0 & 0 & 0 & 0\n",
    "\\end{pmatrix}\n",
    "$$\n",
    "\n",
    "This brings the matrix in so called <a class=\"definition\" href=\"#definitions\" id=\"rowechelonform\">row echelon form</a>:\n",
    "* the leading (first nonzero) coefficient (the pivot) of a nonzero row is always strictly to the right of the leading coefficient of the row above it\n",
    "* zeros rows are at the bottom of the matrix\n",
    "\n",
    "Just like previously we may decide to continue on, and also try to eliminate the entries above the leading coefficients, and finally to divide each row by its leading coefficient so that the leading coefficient becomes 1. \n",
    "This brings the matrix in <a class=\"definition\" href=\"#definitions\" id=\"reducedrowechelonform\">reduced row echelon form</a> where in addition\n",
    "* the leading coefficient of each nonzero row is 1\n",
    "* all other entries in the _column_ of such a leading coefficient are 0\n",
    "\n",
    "The reduced row echelon form of the example above is given by\n",
    "\n",
    "$$\n",
    "\\begin{pmatrix}\n",
    "  1 & 0 & -1 & 0 & 0 \\\\\n",
    "  0 & 1 & 2 & 0 & 0 \\\\\n",
    "  0 & 0 & 0 & 1 & 0 \\\\\n",
    "  0 & 0 & 0 & 0 & 1 \\\\\n",
    "  0 & 0 & 0 & 0 & 0\n",
    "\\end{pmatrix}\n",
    "$$\n",
    "\n",
    "Note that there is nothing further we can do with the third column in this case.\n",
    "\n",
    "A row entirely populated by zeros in row echelon form has an important implication: this row can be fully written as a linear combination of all other rows, and is, therefore, **linearly dependent**. \n",
    "\n",
    "Conversely, the nonzero rows in a matrix in row echelon form are **linearly independent**. Therefore, \n",
    "the **rank of the matrix**, which is still the same as that of the original matrix, can be immediately read off as the number of nonzero rows in the final row echelon form. If the matrix is non-singular, no rows will become completely zero, and thus as expected the rank of the matrix is the same as the number of rows of the matrix.\n",
    "\n",
    "The row echelon form can also be used to work out what the **null space** vectors look like. Remember that in Gaussian Elimination when applying row operations to the matrix, we have to apply the same operations to the right-hand side vector. When we are trying to work out the null space however we are actually solving $\\underline{\\mathbf A}\\boldsymbol{x}=\\boldsymbol{0}$, that is, the right-hand side vector is zero and when applying row operations to that right-hand side vector it remains the same zero vector. Therefore the zero vectors of the original matrix are the same as the zero vectors of the final row echelon form. All you have to do is find a set of linearly independent vectors that satisfy the remaining nonzero row equations.\n",
    "\n",
    "Using the exact same procedure and definitions, we can also use Gaussian Elimination to derive a **row echelon form for non-square matrices** (under- or over-determined linear systems) and use it to compute its rank or its null space. It doesn't immediately tell us how to (approximately) solve such systems though, which we'll cover in the remainder of this lecture."
   ]
  },
  {
   "cell_type": "markdown",
   "metadata": {},
   "source": [
    "# Over-Determined problems ($m\\gt n$) and the Least Squares Solution\n",
    "\n",
    "In over-determined problems, there are more independent equations than unknowns.  That is, in the system  \n",
    "\n",
    "$$\\underline{\\mathbf A}\\, \\boldsymbol{x} = \\boldsymbol{b}$$\n",
    "\n",
    "$m \\gt n$  where $\\underline{\\mathbf A}$ is an $m\\times n$ matrix.\n",
    "\n",
    "<img src=\"./latex/matrix-tall.png\" width=\"300x\" />\n",
    "<br/>\n",
    "\n",
    "The inverse of $\\underline{\\mathbf A}$ is not defined, and in general there is no solution $\\boldsymbol{x}$ that will exactly satisfy this relation \n",
    "\n",
    "BUT we can find an $\\boldsymbol{x}$ if the data $\\boldsymbol{b}$ lies in the range of $\\underline{\\mathbf A}$ but this won't generally be the case. \n",
    "\n",
    "<br/> \n",
    "\n",
    "A useful solution can still be found in the general case, and we've already seen how:\n",
    "\n",
    "Instead of solving our original problem, we instead solve the related equation (residual form)\n",
    "\n",
    "$$\n",
    "\\underline{\\mathbf A}\\boldsymbol{x} - \\boldsymbol{b} = 0,\n",
    "$$\n",
    "where we aim to find the $\\boldsymbol{x}$ that minimises the left-hand side. For a least-squares solution, this minimisation occurs over\n",
    "\n",
    "$$\n",
    "\\frac{1}{2}\\|\\underline{\\mathbf A}\\mathbf{x} - \\mathbf{b}\\|^2 = \\frac{1}{2}(\\underline{\\mathbf A}\\mathbf{x} - \\mathbf{b})^\\top (\\underline{\\mathbf A}\\mathbf{x} - \\mathbf{b}) =  \\frac{1}{2}(\\mathbf{x}^\\top\\underline{\\mathbf A}^\\top\\underline{\\mathbf A} \\mathbf{x} - 2 \\mathbf{b}^\\top\\underline{\\mathbf A} \\mathbf{x} + \\mathbf{b}^\\top \\mathbf{b}).\n",
    "\n",
    "$$\n",
    "\n",
    "\n",
    "To achieve that, we can take the derivative of this least-squares formulation with respect to $\\boldsymbol{x}$ and set it to $\\boldsymbol{0}$:\n",
    "\n",
    "$$\\frac{1}{2}(2\\underline{\\mathbf A}^T \\,\\underline{\\mathbf A}\\, \\boldsymbol{x} - 2\\underline{\\mathbf A}^T \\,\\boldsymbol{b}) = \\mathbf{0},$$\n",
    "\n",
    "yielding\n",
    "\n",
    "$$\\underline{\\mathbf A}^T \\,\\underline{\\mathbf A}\\, \\boldsymbol{x} = \\underline{\\mathbf A}^T \\,\\boldsymbol{b}$$\n",
    "\n",
    "(More on differentiation of inner products in the homework and upcoming lectures).\n",
    "\n",
    "This relation is called the <a class=\"definition\" href=\"#definitions\" id=\"normalequation\">normal equation</a>.\n",
    "\n",
    "<br/>\n",
    "\n",
    "The $n\\times n$ matrix $\\underline{\\mathbf A}^T \\,\\underline{\\mathbf A}$ is now square and symmetric, and  provided that it is not singular, the solution to the normal equation will be \n",
    " \n",
    "$$\\boldsymbol{x} = (\\underline{\\mathbf A}^T \\,\\underline{\\mathbf A})^{-1}\\underline{\\mathbf A}^T \\,\\boldsymbol{b}$$\n",
    "\n",
    "This approach generates the <a class=\"definition\" href=\"#definitions\" id=\"leastsquaressolution\">least squares solution</a> to the problem.\n",
    "\n",
    "We've seen examples of this already in both the linear system case as well as in terms of linear regression (fitting a polynomial to data).\n",
    "\n",
    "<!-- We will leave the derivation of the fact that the normal equation indeed provides the least squares solution to tomorrow, where we will see how to write it as an example of broader class of quadratic optimisation problems. -->"
   ]
  },
  {
   "cell_type": "markdown",
   "metadata": {},
   "source": [
    "## Rank of matrix products\n",
    "\n",
    "Note that a matrix product always has a rank that is less than or equal to the smallest rank of any of the constituent  matrices.\n",
    "\n",
    "In particular this means that a $m\\times n$ matrix $\\underline{\\mathbf A}$, the $n\\times n$ matrix $\\underline{\\mathbf A}^T\\underline{\\mathbf A}$ and the $m\\times m$ matrix $\\underline{\\mathbf A}\\underline{\\mathbf A}^T$ all have the same rank: $\\mathrm{rank}(\\underline{\\mathbf A})$.\n",
    "\n",
    "We have several important results:\n",
    "\n",
    "\n",
    "- As noted before, a square $(m = n)$  matrix is full rank if and only if it is non-singular.  \n",
    "\n",
    "\n",
    "- For a tall $(m > n)$ matrix $\\underline{\\mathbf A}$ that is full rank (i.e. the _purely over-determined case_) the matrix formed by $\\underline{\\mathbf A}^T\\underline{\\mathbf A}$ with dimension $n \\times n$ will be non-singular.  \n",
    "\n",
    "\n",
    "- For a fat $(m < n)$ matrix $\\underline{\\mathbf A}$ that is full rank (i.e. the _purely under-determined case_) the matrix formed by $\\underline{\\mathbf A}\\underline{\\mathbf A}^T$ with dimension $m \\times m$ will be non-singular. \n",
    " \n",
    " \n",
    "- If $A$ is not full rank, then whatever the shape of $\\underline{\\mathbf A}$, both these matrices will be singular. This is the mixed-determined case"
   ]
  },
  {
   "cell_type": "markdown",
   "metadata": {},
   "source": [
    "## The left inverse (or the least-squares inverse) <a class=\"tocSkip\"></a>\n",
    "\n",
    "Note that the expression $(\\underline{\\mathbf A}^T \\underline{\\mathbf A})^{-1} \\underline{\\mathbf A}^T$ has similarities to an inverse of the rectangular matrix $\\underline{\\mathbf A}$ since\n",
    "\n",
    "$$\\left( (\\underline{\\mathbf A}^T \\underline{\\mathbf A})^{-1} \\underline{\\mathbf A}^T \\right)\\underline{\\mathbf A} = \\underline{\\mathbf I}$$\n",
    "\n",
    "However it is not a true inverse since\n",
    "\n",
    "$$\\underline{\\mathbf A}\\left( (\\underline{\\mathbf A}^T \\underline{\\mathbf A})^{-1} \\underline{\\mathbf A}^T \\right) \\ne \\underline{\\mathbf I}$$\n",
    "\n",
    "It is often called the <a class=\"definition\" href=\"#definitions\" id=\"leftinverse\">left inverse</a> (or the least-squares inverse) of $\\underline{\\mathbf A}$."
   ]
  },
  {
   "cell_type": "markdown",
   "metadata": {},
   "source": [
    "# Under-Determined Problems ($m\\lt n$) and the Minimum Norm Solution\n",
    "\n",
    "In under-determined problems,  there are fewer  equations than unknowns, and so  $m$  is  less than $n$.  \n",
    "\n",
    "<img src=\"./latex/matrix-fat.png\" width=\"400x\"/>\n",
    "\n",
    "Now the equations do not uniquely define a solution. \n",
    "\n",
    "However, in this case too there is still a useful solution to be found.  \n",
    "\n",
    "When $m\\lt n$,  the  matrix  $\\underline{\\mathbf A}^T\\underline{\\mathbf A}$ will  be  singular (cf. the rank of matrix products),  so  we  cannot  proceed  as  for  the  over-determined case.  \n",
    "\n",
    "However, the similar $m \\times m$ matrix $\\underline{\\mathbf A}\\underline{\\mathbf A}^T$ will not be singular if the equations are independent and consistent - if $\\underline{\\mathbf A}$ is full rank.  \n",
    "\n",
    "We can therefore construct the solution\n",
    "\n",
    "$$\\boldsymbol{x} = \\underline{\\mathbf A}^T(\\underline{\\mathbf A}\\underline{\\mathbf A}^T)^{-1}\\boldsymbol{b}$$\n",
    "\n",
    "where this time the matrix $\\underline{\\mathbf A}^T(\\underline{\\mathbf A}\\underline{\\mathbf A}^T)^{-1}$ can be regarded as a type of inverse to $\\underline{\\mathbf A}$ since\n",
    "\n",
    "$$\\underline{\\mathbf A}\\left( \\underline{\\mathbf A}^T (\\underline{\\mathbf A}\\underline{\\mathbf A}^T)^{-1} \\right) = \\underline{\\mathbf I}$$\n",
    "\n",
    "which also means that $\\boldsymbol{x}$ is indeed a solution:\n",
    "\n",
    "$$\n",
    "\\underline{\\mathbf A}\\boldsymbol{x} = \\underline{\\mathbf A}\\left( \\underline{\\mathbf A}^T (\\underline{\\mathbf A}\\underline{\\mathbf A}^T)^{-1} \\right)\\boldsymbol{b} =\n",
    "\\boldsymbol{b}\n",
    "$$\n",
    "\n",
    "\n",
    "- This inverse is called the <a class=\"definition\" href=\"#definitions\" id=\"rightinverse\">right  inverse</a> of $A$, or the ***minimum-norm  inverse***. \n",
    "\n",
    "- The minimum-norm inverse generates a perfect fit to the data.  \n",
    "\n",
    "- This however is not the only exact solution.  \n",
    "\n",
    "- This problem has a null space since we have fewer equations than unknowns, and an  infinite  number  of  solutions  will  satisfy the data equally well.    \n",
    "\n",
    "- The  <a class=\"definition\" href=\"#definitions\" id=\"minimumnormsolution\">minimum-norm solution</a> is the solution that both fits the data exactly, and having satisfied that constraint then minimises the $L^2$   norm of the model. That  is, subject  to  first  fitting the data, it then also minimises $\\boldsymbol{x}^T\\boldsymbol{x}$.\n",
    "- Derivation of the minimal norm solution can be found [here](https://see.stanford.edu/materials/lsoeldsee263/08-min-norm.pdf) and is left here for curiosity (we will return to this discussion in lecture 10)\n",
    "\n",
    "This is in fact our first example of a constrained optimisation problem. We define a function, in this case $f(\\boldsymbol{x})=\\boldsymbol{x}^T \\boldsymbol{x}$, and search for the minimum of $f(\\boldsymbol{x})$ with the constraint that $\\boldsymbol{x}$ should satisfy the $\\underline{\\mathbf{A}}\\boldsymbol{x}=\\boldsymbol{b}$. We will come back to constrained optimisation in lecture 10, and proof that the right-inverse solution indeed minimises the L2-norm of $\\boldsymbol{x}$.\n",
    "\n",
    "The latter condition makes the model parameter vector as \"short\" as possible (thinking of $\\boldsymbol{x}$ as a vector) given that it must also match the data.  This  is  a  minimum  model parameter vector that  has  nothing  within  it  that  can  be  left  out  without degrading the fit to the data.  However, we can choose to add to it any linear combination from the null space and it will still explain the data exactly. \n"
   ]
  },
  {
   "cell_type": "markdown",
   "metadata": {},
   "source": [
    "### A taste for optimization\n",
    "\n",
    "In many circumstances, it is appropriate to parametrise the model so that the parameters that we are attempting to obtain are not defined in an absolute sense, but are defined as changes to some *a priori* model $\\boldsymbol{x}_0$.  \n",
    "\n",
    "The *a priori* model is our best guess of what the answer should be in the absence of the data.  If we parametrise in this way, then a solution using the approach above will ensure that we find the model that best fits the data and that is also as close to the *a priori* model as possible.  \n",
    "\n",
    "In this case, the problem is often set up to solve for $\\delta \\boldsymbol{x}:=\\boldsymbol{x} - \\boldsymbol{x}_0$, and takes the form\n",
    "\n",
    "$$\\boldsymbol{x} - \\boldsymbol{x}_0  = \\underline{\\mathbf A}^T(\\underline{\\mathbf A}\\underline{\\mathbf A}^T)^{-1}(\\boldsymbol{b} - \\underline{\\mathbf A} \\boldsymbol{x}_0)$$\n",
    "\n",
    "or\n",
    "\n",
    "$$\\delta \\boldsymbol{x} = \\underline{\\mathbf A}^T(\\underline{\\mathbf A}\\underline{\\mathbf A}^T)^{-1}\\delta \\boldsymbol{b}$$\n",
    "\n",
    "where\n",
    "\n",
    "$$\\delta \\boldsymbol{b}=\\boldsymbol{b} - \\underline{\\mathbf A} \\boldsymbol{x}_0$$\n",
    "\n",
    "is the difference between the observed data and that predicted using the starting model $\\boldsymbol{x}_0$.\n",
    "\n",
    "\n",
    "\n"
   ]
  },
  {
   "cell_type": "markdown",
   "metadata": {},
   "source": [
    "# Mixed-Determined Problems\n",
    "\n",
    "Recall our simple mixed determined problem from above\n",
    "\n",
    "$$\n",
    "\\begin{pmatrix}\n",
    "1 & 0 & 0 \\\\\n",
    "1 & 0 & 0 \\\\\n",
    "0 & 2 & 2 \\\\\n",
    "0 & 3 & 3\n",
    "\\end{pmatrix}\n",
    "\\begin{pmatrix}\n",
    "x_1\\\\\n",
    "x_2\\\\\n",
    "x_3\n",
    "\\end{pmatrix}\n",
    "=\n",
    "\\begin{pmatrix}\n",
    "1\\\\\n",
    "2\\\\\n",
    "2\\\\\n",
    "3\n",
    "\\end{pmatrix}.\n",
    "$$\n",
    "\n",
    "None of our solution methods are applicable to this case"
   ]
  },
  {
   "cell_type": "code",
   "execution_count": 129,
   "metadata": {},
   "outputs": [
    {
     "name": "stdout",
     "output_type": "stream",
     "text": [
      "0.0\n",
      "0.0\n"
     ]
    }
   ],
   "source": [
    "# just confirm that A.T@A and A@A.T are singular \n",
    "A = np.array([\n",
    "    [1,0,0],\n",
    "    [1,0,0],\n",
    "    [0,2,2],\n",
    "    [0,3,3]])\n",
    "\n",
    "print(sl.det(A.T@A))\n",
    "print(sl.det(A@A.T))"
   ]
  },
  {
   "cell_type": "markdown",
   "metadata": {},
   "source": [
    "## Possible solution methods\n",
    "\n",
    "In  this  problem,  $\\underline{\\mathbf A}$  is  not  square  so  that  $\\underline{\\mathbf A}^{-1}$ does not exist,  and  both  $\\underline{\\mathbf A}^T\\underline{\\mathbf A}$ and $\\underline{\\mathbf A}\\underline{\\mathbf A}^T$ are singular matrices, so that none of the methods that we have used so far will work.  \n",
    "\n",
    "So what can we do?  There are two principal options that we will discuss in tomorrow's lecture:\n",
    "\n",
    "\n",
    "1. we can use the ***generalised inverse*** $A^+$, also known as the pseudo-inverse or the ***Moore-Penrose inverse***, or\n",
    "\n",
    "\n",
    "2. we can use some form of ***regularisation*** to the model of which ***damped least-squares*** is the most straightforward.   \n",
    "\n",
    "\n",
    "The generalised inverse is  preferable in  small problems, especially  when we would like to analyse the quality of the results carefully, while regularised least-squares and related methods are preferable for large problems when the generalised inverse is prohibitively expensive, or when linearised inversion is being used in order to solve a non-linear problem by iteration."
   ]
  },
  {
   "cell_type": "markdown",
   "metadata": {},
   "source": [
    "# List of Definitions\n",
    "<a id=\"definitions\"/>\n",
    "\n",
    "* <a class=definition href=\"#forwardproblem\">forward problem</a>\n",
    "* <a class=definition href=\"#inverseproblem\">inverse problem</a>\n",
    "* <a class=definition href=\"#residualform\">residual form</a>\n",
    "* <a class=definition href=\"#rootfindingproblem\">root-finding problem</a>\n",
    "* <a class=definition href=\"#linearlydependent\">linearly dependent</a>\n",
    "* <a class=definition href=\"#linearlyindependent\">linearly independent</a>\n",
    "* <a class=definition href=\"#rankofamatrix\">rank of a matrix</a>\n",
    "* <a class=definition href=\"#fullrank\">full-rank</a>\n",
    "* <a class=definition href=\"#rankdeficient\">rank-deficient</a>\n",
    "* <a class=definition href=\"#equidetermined\">equi-determined</a>\n",
    "* <a class=definition href=\"#underdetermined\">under-determined</a>\n",
    "* <a class=definition href=\"#overdetermined\">over-determined</a>\n",
    "* <a class=definition href=\"#inverseofthematrix\">inverse of the matrix</a>\n",
    "* <a class=definition href=\"#rowoperations\">row operations</a>\n",
    "* <a class=definition href=\"#augmentedmatrix\">augmented matrix</a>\n",
    "* <a class=definition href=\"#GaussianElimination\">Gaussian Elimination</a>\n",
    "* <a class=definition href=\"#upperdiagonal\">upper diagonal</a>\n",
    "* <a class=definition href=\"#lowerdiagonal\">lower diagonal</a>\n",
    "* <a class=definition href=\"#forwardsubstitution\">forward substitution</a>\n",
    "* <a class=definition href=\"#pivots\">pivots</a>\n",
    "* <a class=definition href=\"#partialpivotting\">partial pivotting</a>\n",
    "* <a class=definition href=\"#lowerdiagonalmatrix\">lower diagonal matrix</a>\n",
    "* <a class=definition href=\"#LUdecomposition\">LU-decomposition</a>\n",
    "* <a class=definition href=\"#iterativemethods\">iterative methods</a>\n",
    "* <a class=definition href=\"#rowechelonform\">row echelon form</a>\n",
    "* <a class=definition href=\"#reducedrowechelonform\">reduced row echelon form</a>\n",
    "* <a class=definition href=\"#normalequation\">normal equation</a>\n",
    "* <a class=definition href=\"#leastsquaressolution\">least squares solution</a>\n",
    "* <a class=definition href=\"#leftinverse\">left inverse</a>\n",
    "* <a class=definition href=\"#rightinverse\">right  inverse</a>\n",
    "* <a class=definition href=\"#minimumnormsolution\">minimum-norm solution</a>\n"
   ]
  }
 ],
 "metadata": {
  "celltoolbar": "Slideshow",
  "kernelspec": {
   "display_name": "eda",
   "language": "python",
   "name": "python3"
  },
  "language_info": {
   "codemirror_mode": {
    "name": "ipython",
    "version": 3
   },
   "file_extension": ".py",
   "mimetype": "text/x-python",
   "name": "python",
   "nbconvert_exporter": "python",
   "pygments_lexer": "ipython3",
   "version": "3.10.14"
  },
  "latex_envs": {
   "LaTeX_envs_menu_present": true,
   "autoclose": true,
   "autocomplete": true,
   "bibliofile": "biblio.bib",
   "cite_by": "apalike",
   "current_citInitial": 1,
   "eqLabelWithNumbers": true,
   "eqNumInitial": 1,
   "hotkeys": {
    "equation": "Ctrl-E",
    "itemize": "Ctrl-I"
   },
   "labels_anchors": false,
   "latex_user_defs": false,
   "report_style_numbering": false,
   "user_envs_cfg": true
  },
  "toc": {
   "base_numbering": 1,
   "nav_menu": {},
   "number_sections": true,
   "sideBar": true,
   "skip_h1_title": false,
   "title_cell": "Table of Contents",
   "title_sidebar": "Contents",
   "toc_cell": false,
   "toc_position": {},
   "toc_section_display": true,
   "toc_window_display": false
  }
 },
 "nbformat": 4,
 "nbformat_minor": 4
}
